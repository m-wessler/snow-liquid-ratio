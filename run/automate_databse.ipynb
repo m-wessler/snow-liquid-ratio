{
 "cells": [
  {
   "cell_type": "code",
   "execution_count": null,
   "metadata": {},
   "outputs": [],
   "source": [
    "import numpy as np\n",
    "import xarray as xr\n",
    "import pandas as pd\n",
    "from glob import glob"
   ]
  },
  {
   "cell_type": "code",
   "execution_count": null,
   "metadata": {},
   "outputs": [],
   "source": [
    "script_dir = '/uufs/chpc.utah.edu/common/home/u1070830/code/snow-liquid-ratio/'\n",
    "obs_path = '/uufs/chpc.utah.edu/common/home/steenburgh-group10/mewessler/observations/'\n",
    "era5_path = '/uufs/chpc.utah.edu/common/home/steenburgh-group10/mewessler/era5/'\n",
    "gfs_path = '/uufs/chpc.utah.edu/common/home/steenburgh-group10/mewessler/gfs/'"
   ]
  },
  {
   "cell_type": "markdown",
   "metadata": {},
   "source": [
    "## Start with the metadata file as an efficent way to keep data organized vs a config file"
   ]
  },
  {
   "cell_type": "code",
   "execution_count": null,
   "metadata": {},
   "outputs": [],
   "source": [
    "metadata = pd.read_excel(obs_path + 'Dataset_Metadata.xlsx').set_index('code')\n",
    "metadata"
   ]
  },
  {
   "cell_type": "markdown",
   "metadata": {},
   "source": [
    "## Loop over each station:\n",
    "1. Ensure the observation data exists and is read in to .pd\n",
    "2. Ensure the era5 profile has been created\n",
    "3. Pair the observations and ERA5 profile\n",
    "4. Extract a GFS profile for verification\n",
    "\n",
    "We don't want to re-run on data already processed, so check each step first"
   ]
  },
  {
   "cell_type": "code",
   "execution_count": null,
   "metadata": {},
   "outputs": [],
   "source": []
  }
 ],
 "metadata": {
  "kernelspec": {
   "display_name": "Python 3",
   "language": "python",
   "name": "python3"
  },
  "language_info": {
   "codemirror_mode": {
    "name": "ipython",
    "version": 3
   },
   "file_extension": ".py",
   "mimetype": "text/x-python",
   "name": "python",
   "nbconvert_exporter": "python",
   "pygments_lexer": "ipython3",
   "version": "3.6.5"
  }
 },
 "nbformat": 4,
 "nbformat_minor": 2
}
