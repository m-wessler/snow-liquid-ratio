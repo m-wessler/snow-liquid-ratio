{
 "cells": [
  {
   "cell_type": "code",
   "execution_count": null,
   "metadata": {},
   "outputs": [],
   "source": [
    "import pandas as pd\n",
    "import numpy as np\n",
    "\n",
    "from glob import glob\n",
    "from datetime import datetime"
   ]
  },
  {
   "cell_type": "code",
   "execution_count": null,
   "metadata": {},
   "outputs": [],
   "source": [
    "obdir = '/uufs/chpc.utah.edu/common/home/steenburgh-group10/mewessler/observations/'"
   ]
  },
  {
   "cell_type": "code",
   "execution_count": null,
   "metadata": {},
   "outputs": [],
   "source": [
    "flist = glob(obdir + 'clean/*.pd')\n",
    "for f in flist:\n",
    "    print(f)"
   ]
  },
  {
   "cell_type": "code",
   "execution_count": null,
   "metadata": {},
   "outputs": [],
   "source": [
    "obs = []\n",
    "\n",
    "for f in flist:\n",
    "    site = f.split('/')[-1].split('_')[0]\n",
    "    print('Aggregating %s'%site)\n",
    "    \n",
    "    df = pd.read_pickle(f)\n",
    "    df['site'] = np.full(df.index.size, fill_value=site, dtype='U10')\n",
    "    \n",
    "    # We can put these back later \n",
    "    df = df.drop(columns=[k for k in df.keys() if ('auto' in k)|('depth' in k)])\n",
    "    \n",
    "    obs.append(df.set_index([df.index, 'site']).sort_index())\n",
    "\n",
    "obs = pd.concat(obs, sort=True).sort_index()\n",
    "\n",
    "# We can put these back later \n",
    "periods = pd.DataFrame(obs.pop('precip_periods'))\n",
    "obs.insert(obs.shape[1], 'precip_periods', periods)\n",
    "\n",
    "print('\\n', obs.shape)\n",
    "obs[-1020:-1000]"
   ]
  },
  {
   "cell_type": "code",
   "execution_count": null,
   "metadata": {},
   "outputs": [],
   "source": [
    "obs.to_pickle(obdir + 'aggregate/WESTUS_ALL.uncut.pd')"
   ]
  },
  {
   "cell_type": "code",
   "execution_count": null,
   "metadata": {},
   "outputs": [],
   "source": [
    "# Note the ERA5 starts in 1980 - cut there\n",
    "obs_cut = obs[obs.index.get_level_values(0) > datetime(1980, 1, 1, 0, 0)]\n",
    "\n",
    "print(obs_cut.shape)\n",
    "obs_cut[-1020:-1000]"
   ]
  },
  {
   "cell_type": "code",
   "execution_count": null,
   "metadata": {},
   "outputs": [],
   "source": [
    "obs_cut.to_pickle(obdir + 'aggregate/WESTUS_ALL.pd')"
   ]
  },
  {
   "cell_type": "code",
   "execution_count": null,
   "metadata": {},
   "outputs": [],
   "source": [
    "# site_index = obs.index.get_level_values(1)\n",
    "# obs.iloc[np.where(site_index == 'ALTA')]"
   ]
  }
 ],
 "metadata": {
  "kernelspec": {
   "display_name": "Python 3",
   "language": "python",
   "name": "python3"
  },
  "language_info": {
   "codemirror_mode": {
    "name": "ipython",
    "version": 3
   },
   "file_extension": ".py",
   "mimetype": "text/x-python",
   "name": "python",
   "nbconvert_exporter": "python",
   "pygments_lexer": "ipython3",
   "version": "3.6.5"
  }
 },
 "nbformat": 4,
 "nbformat_minor": 2
}
