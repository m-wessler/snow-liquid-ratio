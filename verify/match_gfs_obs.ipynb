{
 "cells": [
  {
   "cell_type": "code",
   "execution_count": 2,
   "metadata": {},
   "outputs": [],
   "source": [
    "import numpy as np\n",
    "import pandas as pd\n",
    "import xarray as xr\n",
    "import seaborn as sns\n",
    "import matplotlib.pyplot as plt\n",
    "\n",
    "from glob import glob"
   ]
  },
  {
   "cell_type": "code",
   "execution_count": 3,
   "metadata": {},
   "outputs": [],
   "source": [
    "obs_dir = '/uufs/chpc.utah.edu/common/home/steenburgh-group10/mewessler/observations/clean/'\n",
    "mlmodel_dir = '/uufs/chpc.utah.edu/common/home/steenburgh-group10/mewessler/output/slr_models/all_dev/GFS_output/'"
   ]
  },
  {
   "cell_type": "code",
   "execution_count": 4,
   "metadata": {},
   "outputs": [],
   "source": [
    "site, interval = 'CLNX', 12\n",
    "\n",
    "obs_file = glob(obs_dir + '%s*.pd'%site)[0]\n",
    "model_file = glob(mlmodel_dir + '%s/%s_%d*.pd'%(site, site, interval))[0]"
   ]
  },
  {
   "cell_type": "code",
   "execution_count": 5,
   "metadata": {},
   "outputs": [
    {
     "data": {
      "text/html": [
       "<div>\n",
       "<style scoped>\n",
       "    .dataframe tbody tr th:only-of-type {\n",
       "        vertical-align: middle;\n",
       "    }\n",
       "\n",
       "    .dataframe tbody tr th {\n",
       "        vertical-align: top;\n",
       "    }\n",
       "\n",
       "    .dataframe thead th {\n",
       "        text-align: right;\n",
       "    }\n",
       "</style>\n",
       "<table border=\"1\" class=\"dataframe\">\n",
       "  <thead>\n",
       "    <tr style=\"text-align: right;\">\n",
       "      <th></th>\n",
       "      <th>obs_slr</th>\n",
       "      <th>obs_snow_mm</th>\n",
       "      <th>obs_swe_mm</th>\n",
       "    </tr>\n",
       "    <tr>\n",
       "      <th>valid</th>\n",
       "      <th></th>\n",
       "      <th></th>\n",
       "      <th></th>\n",
       "    </tr>\n",
       "  </thead>\n",
       "  <tbody>\n",
       "    <tr>\n",
       "      <th>1999-11-08 09:00:00</th>\n",
       "      <td>9.520000</td>\n",
       "      <td>101.599998</td>\n",
       "      <td>10.670000</td>\n",
       "    </tr>\n",
       "    <tr>\n",
       "      <th>1999-11-17 09:00:00</th>\n",
       "      <td>11.320000</td>\n",
       "      <td>152.399994</td>\n",
       "      <td>13.460000</td>\n",
       "    </tr>\n",
       "    <tr>\n",
       "      <th>1999-11-20 09:00:00</th>\n",
       "      <td>18.209999</td>\n",
       "      <td>50.799999</td>\n",
       "      <td>2.790000</td>\n",
       "    </tr>\n",
       "    <tr>\n",
       "      <th>1999-11-20 21:00:00</th>\n",
       "      <td>8.700000</td>\n",
       "      <td>50.799999</td>\n",
       "      <td>5.840000</td>\n",
       "    </tr>\n",
       "    <tr>\n",
       "      <th>1999-11-21 09:00:00</th>\n",
       "      <td>25.000000</td>\n",
       "      <td>254.000000</td>\n",
       "      <td>10.160000</td>\n",
       "    </tr>\n",
       "    <tr>\n",
       "      <th>...</th>\n",
       "      <td>...</td>\n",
       "      <td>...</td>\n",
       "      <td>...</td>\n",
       "    </tr>\n",
       "    <tr>\n",
       "      <th>2019-04-20 09:00:00</th>\n",
       "      <td>4.540000</td>\n",
       "      <td>25.400000</td>\n",
       "      <td>5.590000</td>\n",
       "    </tr>\n",
       "    <tr>\n",
       "      <th>2019-04-21 21:00:00</th>\n",
       "      <td>9.100000</td>\n",
       "      <td>25.400000</td>\n",
       "      <td>2.790000</td>\n",
       "    </tr>\n",
       "    <tr>\n",
       "      <th>2019-04-26 09:00:00</th>\n",
       "      <td>0.000000</td>\n",
       "      <td>0.000000</td>\n",
       "      <td>6.350000</td>\n",
       "    </tr>\n",
       "    <tr>\n",
       "      <th>2019-04-30 09:00:00</th>\n",
       "      <td>9.290000</td>\n",
       "      <td>165.100006</td>\n",
       "      <td>17.780001</td>\n",
       "    </tr>\n",
       "    <tr>\n",
       "      <th>2019-04-30 21:00:00</th>\n",
       "      <td>7.890000</td>\n",
       "      <td>38.099998</td>\n",
       "      <td>4.830000</td>\n",
       "    </tr>\n",
       "  </tbody>\n",
       "</table>\n",
       "<p>2038 rows × 3 columns</p>\n",
       "</div>"
      ],
      "text/plain": [
       "                       obs_slr  obs_snow_mm  obs_swe_mm\n",
       "valid                                                  \n",
       "1999-11-08 09:00:00   9.520000   101.599998   10.670000\n",
       "1999-11-17 09:00:00  11.320000   152.399994   13.460000\n",
       "1999-11-20 09:00:00  18.209999    50.799999    2.790000\n",
       "1999-11-20 21:00:00   8.700000    50.799999    5.840000\n",
       "1999-11-21 09:00:00  25.000000   254.000000   10.160000\n",
       "...                        ...          ...         ...\n",
       "2019-04-20 09:00:00   4.540000    25.400000    5.590000\n",
       "2019-04-21 21:00:00   9.100000    25.400000    2.790000\n",
       "2019-04-26 09:00:00   0.000000     0.000000    6.350000\n",
       "2019-04-30 09:00:00   9.290000   165.100006   17.780001\n",
       "2019-04-30 21:00:00   7.890000    38.099998    4.830000\n",
       "\n",
       "[2038 rows x 3 columns]"
      ]
     },
     "execution_count": 5,
     "metadata": {},
     "output_type": "execute_result"
    }
   ],
   "source": [
    "obs = pd.read_pickle(obs_file).reset_index().rename(\n",
    "    columns={'datetime_utc':'valid'}).set_index('valid')\n",
    "    \n",
    "obs = obs[[k for k in obs.keys() if str(interval) in k]]\n",
    "obs = obs.rename(columns={k:'obs_' + k.replace('%s'%interval, '') for k in obs.keys()})\n",
    "\n",
    "swe_min = 2.54 #0.1 in \n",
    "obs = obs[obs['obs_swe_mm'] >= 2.54]\n",
    "\n",
    "obs"
   ]
  },
  {
   "cell_type": "code",
   "execution_count": 6,
   "metadata": {},
   "outputs": [
    {
     "data": {
      "text/html": [
       "<div>\n",
       "<style scoped>\n",
       "    .dataframe tbody tr th:only-of-type {\n",
       "        vertical-align: middle;\n",
       "    }\n",
       "\n",
       "    .dataframe tbody tr th {\n",
       "        vertical-align: top;\n",
       "    }\n",
       "\n",
       "    .dataframe thead th {\n",
       "        text-align: right;\n",
       "    }\n",
       "</style>\n",
       "<table border=\"1\" class=\"dataframe\">\n",
       "  <thead>\n",
       "    <tr style=\"text-align: right;\">\n",
       "      <th></th>\n",
       "      <th>mod_snow_mm</th>\n",
       "      <th>mod_swe_mm</th>\n",
       "      <th>mod_slr</th>\n",
       "    </tr>\n",
       "    <tr>\n",
       "      <th>valid</th>\n",
       "      <th></th>\n",
       "      <th></th>\n",
       "      <th></th>\n",
       "    </tr>\n",
       "  </thead>\n",
       "  <tbody>\n",
       "    <tr>\n",
       "      <th>2015-01-15 21:00:00</th>\n",
       "      <td>0</td>\n",
       "      <td>0</td>\n",
       "      <td>NaN</td>\n",
       "    </tr>\n",
       "    <tr>\n",
       "      <th>2015-01-16 09:00:00</th>\n",
       "      <td>0</td>\n",
       "      <td>0</td>\n",
       "      <td>NaN</td>\n",
       "    </tr>\n",
       "    <tr>\n",
       "      <th>2015-01-16 21:00:00</th>\n",
       "      <td>0</td>\n",
       "      <td>0</td>\n",
       "      <td>NaN</td>\n",
       "    </tr>\n",
       "    <tr>\n",
       "      <th>2015-01-17 09:00:00</th>\n",
       "      <td>5.30383</td>\n",
       "      <td>0.5</td>\n",
       "      <td>10.6</td>\n",
       "    </tr>\n",
       "    <tr>\n",
       "      <th>2015-01-17 21:00:00</th>\n",
       "      <td>0</td>\n",
       "      <td>0</td>\n",
       "      <td>NaN</td>\n",
       "    </tr>\n",
       "    <tr>\n",
       "      <th>...</th>\n",
       "      <td>...</td>\n",
       "      <td>...</td>\n",
       "      <td>...</td>\n",
       "    </tr>\n",
       "    <tr>\n",
       "      <th>2019-05-30 09:00:00</th>\n",
       "      <td>87.342</td>\n",
       "      <td>9</td>\n",
       "      <td>9.7</td>\n",
       "    </tr>\n",
       "    <tr>\n",
       "      <th>2019-05-30 21:00:00</th>\n",
       "      <td>4.36902</td>\n",
       "      <td>0.3125</td>\n",
       "      <td>14</td>\n",
       "    </tr>\n",
       "    <tr>\n",
       "      <th>2019-05-31 09:00:00</th>\n",
       "      <td>57.8872</td>\n",
       "      <td>3.9375</td>\n",
       "      <td>14.7</td>\n",
       "    </tr>\n",
       "    <tr>\n",
       "      <th>2019-05-31 21:00:00</th>\n",
       "      <td>7.9817</td>\n",
       "      <td>0.6875</td>\n",
       "      <td>11.6</td>\n",
       "    </tr>\n",
       "    <tr>\n",
       "      <th>2019-06-01 09:00:00</th>\n",
       "      <td>20.8975</td>\n",
       "      <td>1.9375</td>\n",
       "      <td>10.8</td>\n",
       "    </tr>\n",
       "  </tbody>\n",
       "</table>\n",
       "<p>2217 rows × 3 columns</p>\n",
       "</div>"
      ],
      "text/plain": [
       "                    mod_snow_mm mod_swe_mm mod_slr\n",
       "valid                                             \n",
       "2015-01-15 21:00:00           0          0     NaN\n",
       "2015-01-16 09:00:00           0          0     NaN\n",
       "2015-01-16 21:00:00           0          0     NaN\n",
       "2015-01-17 09:00:00     5.30383        0.5    10.6\n",
       "2015-01-17 21:00:00           0          0     NaN\n",
       "...                         ...        ...     ...\n",
       "2019-05-30 09:00:00      87.342          9     9.7\n",
       "2019-05-30 21:00:00     4.36902     0.3125      14\n",
       "2019-05-31 09:00:00     57.8872     3.9375    14.7\n",
       "2019-05-31 21:00:00      7.9817     0.6875    11.6\n",
       "2019-06-01 09:00:00     20.8975     1.9375    10.8\n",
       "\n",
       "[2217 rows x 3 columns]"
      ]
     },
     "execution_count": 6,
     "metadata": {},
     "output_type": "execute_result"
    }
   ],
   "source": [
    "model = pd.read_pickle(model_file)\n",
    "model = model.rename(columns={k:'mod_'+k for k in model.keys()})\n",
    "model"
   ]
  },
  {
   "cell_type": "code",
   "execution_count": 7,
   "metadata": {},
   "outputs": [
    {
     "data": {
      "text/html": [
       "<div>\n",
       "<style scoped>\n",
       "    .dataframe tbody tr th:only-of-type {\n",
       "        vertical-align: middle;\n",
       "    }\n",
       "\n",
       "    .dataframe tbody tr th {\n",
       "        vertical-align: top;\n",
       "    }\n",
       "\n",
       "    .dataframe thead th {\n",
       "        text-align: right;\n",
       "    }\n",
       "</style>\n",
       "<table border=\"1\" class=\"dataframe\">\n",
       "  <thead>\n",
       "    <tr style=\"text-align: right;\">\n",
       "      <th></th>\n",
       "      <th>obs_slr</th>\n",
       "      <th>obs_snow_mm</th>\n",
       "      <th>obs_swe_mm</th>\n",
       "      <th>mod_snow_mm</th>\n",
       "      <th>mod_swe_mm</th>\n",
       "      <th>mod_slr</th>\n",
       "    </tr>\n",
       "    <tr>\n",
       "      <th>valid</th>\n",
       "      <th></th>\n",
       "      <th></th>\n",
       "      <th></th>\n",
       "      <th></th>\n",
       "      <th></th>\n",
       "      <th></th>\n",
       "    </tr>\n",
       "  </thead>\n",
       "  <tbody>\n",
       "    <tr>\n",
       "      <th>2015-01-28 21:00:00</th>\n",
       "      <td>5.88</td>\n",
       "      <td>25.400000</td>\n",
       "      <td>4.320000</td>\n",
       "      <td>49.9231</td>\n",
       "      <td>4.9</td>\n",
       "      <td>10.2</td>\n",
       "    </tr>\n",
       "    <tr>\n",
       "      <th>2015-01-30 09:00:00</th>\n",
       "      <td>10.00</td>\n",
       "      <td>25.400000</td>\n",
       "      <td>2.540000</td>\n",
       "      <td>20.4429</td>\n",
       "      <td>1.9</td>\n",
       "      <td>10.8</td>\n",
       "    </tr>\n",
       "    <tr>\n",
       "      <th>2015-02-02 09:00:00</th>\n",
       "      <td>5.88</td>\n",
       "      <td>25.400000</td>\n",
       "      <td>4.320000</td>\n",
       "      <td>7.09603</td>\n",
       "      <td>0.3</td>\n",
       "      <td>23.7</td>\n",
       "    </tr>\n",
       "    <tr>\n",
       "      <th>2015-02-02 21:00:00</th>\n",
       "      <td>7.15</td>\n",
       "      <td>38.099998</td>\n",
       "      <td>5.330000</td>\n",
       "      <td>17.5746</td>\n",
       "      <td>1.3</td>\n",
       "      <td>13.5</td>\n",
       "    </tr>\n",
       "    <tr>\n",
       "      <th>2015-02-03 09:00:00</th>\n",
       "      <td>7.50</td>\n",
       "      <td>76.199997</td>\n",
       "      <td>10.160000</td>\n",
       "      <td>123.092</td>\n",
       "      <td>8.49</td>\n",
       "      <td>14.5</td>\n",
       "    </tr>\n",
       "    <tr>\n",
       "      <th>...</th>\n",
       "      <td>...</td>\n",
       "      <td>...</td>\n",
       "      <td>...</td>\n",
       "      <td>...</td>\n",
       "      <td>...</td>\n",
       "      <td>...</td>\n",
       "    </tr>\n",
       "    <tr>\n",
       "      <th>2019-04-16 21:00:00</th>\n",
       "      <td>8.86</td>\n",
       "      <td>177.800003</td>\n",
       "      <td>20.070000</td>\n",
       "      <td>171.298</td>\n",
       "      <td>12.3125</td>\n",
       "      <td>13.9</td>\n",
       "    </tr>\n",
       "    <tr>\n",
       "      <th>2019-04-21 21:00:00</th>\n",
       "      <td>9.10</td>\n",
       "      <td>25.400000</td>\n",
       "      <td>2.790000</td>\n",
       "      <td>63.6808</td>\n",
       "      <td>5.125</td>\n",
       "      <td>12.4</td>\n",
       "    </tr>\n",
       "    <tr>\n",
       "      <th>2019-04-26 09:00:00</th>\n",
       "      <td>0.00</td>\n",
       "      <td>0.000000</td>\n",
       "      <td>6.350000</td>\n",
       "      <td>53.8026</td>\n",
       "      <td>4.3125</td>\n",
       "      <td>12.5</td>\n",
       "    </tr>\n",
       "    <tr>\n",
       "      <th>2019-04-30 09:00:00</th>\n",
       "      <td>9.29</td>\n",
       "      <td>165.100006</td>\n",
       "      <td>17.780001</td>\n",
       "      <td>27.1814</td>\n",
       "      <td>2.375</td>\n",
       "      <td>11.4</td>\n",
       "    </tr>\n",
       "    <tr>\n",
       "      <th>2019-04-30 21:00:00</th>\n",
       "      <td>7.89</td>\n",
       "      <td>38.099998</td>\n",
       "      <td>4.830000</td>\n",
       "      <td>35.2633</td>\n",
       "      <td>3.75</td>\n",
       "      <td>9.4</td>\n",
       "    </tr>\n",
       "  </tbody>\n",
       "</table>\n",
       "<p>397 rows × 6 columns</p>\n",
       "</div>"
      ],
      "text/plain": [
       "                     obs_slr  obs_snow_mm  obs_swe_mm mod_snow_mm mod_swe_mm  \\\n",
       "valid                                                                          \n",
       "2015-01-28 21:00:00     5.88    25.400000    4.320000     49.9231        4.9   \n",
       "2015-01-30 09:00:00    10.00    25.400000    2.540000     20.4429        1.9   \n",
       "2015-02-02 09:00:00     5.88    25.400000    4.320000     7.09603        0.3   \n",
       "2015-02-02 21:00:00     7.15    38.099998    5.330000     17.5746        1.3   \n",
       "2015-02-03 09:00:00     7.50    76.199997   10.160000     123.092       8.49   \n",
       "...                      ...          ...         ...         ...        ...   \n",
       "2019-04-16 21:00:00     8.86   177.800003   20.070000     171.298    12.3125   \n",
       "2019-04-21 21:00:00     9.10    25.400000    2.790000     63.6808      5.125   \n",
       "2019-04-26 09:00:00     0.00     0.000000    6.350000     53.8026     4.3125   \n",
       "2019-04-30 09:00:00     9.29   165.100006   17.780001     27.1814      2.375   \n",
       "2019-04-30 21:00:00     7.89    38.099998    4.830000     35.2633       3.75   \n",
       "\n",
       "                    mod_slr  \n",
       "valid                        \n",
       "2015-01-28 21:00:00    10.2  \n",
       "2015-01-30 09:00:00    10.8  \n",
       "2015-02-02 09:00:00    23.7  \n",
       "2015-02-02 21:00:00    13.5  \n",
       "2015-02-03 09:00:00    14.5  \n",
       "...                     ...  \n",
       "2019-04-16 21:00:00    13.9  \n",
       "2019-04-21 21:00:00    12.4  \n",
       "2019-04-26 09:00:00    12.5  \n",
       "2019-04-30 09:00:00    11.4  \n",
       "2019-04-30 21:00:00     9.4  \n",
       "\n",
       "[397 rows x 6 columns]"
      ]
     },
     "execution_count": 7,
     "metadata": {},
     "output_type": "execute_result"
    }
   ],
   "source": [
    "match = obs.merge(model, on='valid')\n",
    "match = match.dropna(how='any')\n",
    "match"
   ]
  },
  {
   "cell_type": "code",
   "execution_count": 8,
   "metadata": {},
   "outputs": [
    {
     "data": {
      "text/plain": [
       "<seaborn.axisgrid.PairGrid at 0x2b0068b1fbe0>"
      ]
     },
     "execution_count": 8,
     "metadata": {},
     "output_type": "execute_result"
    },
    {
     "data": {
      "image/png": "[encoded data removed]",
      "text/plain": [
       "<Figure size 360x360 with 6 Axes>"
      ]
     },
     "metadata": {
      "needs_background": "light"
     },
     "output_type": "display_data"
    }
   ],
   "source": [
    "sns.pairplot(match[['obs_slr', 'mod_slr']])"
   ]
  },
  {
   "cell_type": "code",
   "execution_count": 9,
   "metadata": {},
   "outputs": [
    {
     "data": {
      "text/plain": [
       "<seaborn.axisgrid.PairGrid at 0x2b0068b1a130>"
      ]
     },
     "execution_count": 9,
     "metadata": {},
     "output_type": "execute_result"
    },
    {
     "data": {
      "image/png": "[encoded data removed]",
      "text/plain": [
       "<Figure size 360x360 with 6 Axes>"
      ]
     },
     "metadata": {
      "needs_background": "light"
     },
     "output_type": "display_data"
    }
   ],
   "source": [
    "sns.pairplot(match[['obs_swe_mm', 'mod_swe_mm']])"
   ]
  },
  {
   "cell_type": "code",
   "execution_count": 10,
   "metadata": {},
   "outputs": [
    {
     "data": {
      "text/plain": [
       "<seaborn.axisgrid.PairGrid at 0x2b0096388910>"
      ]
     },
     "execution_count": 10,
     "metadata": {},
     "output_type": "execute_result"
    },
    {
     "data": {
      "image/png": "[encoded data removed]",
      "text/plain": [
       "<Figure size 360x360 with 6 Axes>"
      ]
     },
     "metadata": {
      "needs_background": "light"
     },
     "output_type": "display_data"
    }
   ],
   "source": [
    "sns.pairplot(match[['obs_snow_mm', 'mod_snow_mm']])"
   ]
  },
  {
   "cell_type": "code",
   "execution_count": null,
   "metadata": {},
   "outputs": [],
   "source": []
  },
  {
   "cell_type": "code",
   "execution_count": null,
   "metadata": {},
   "outputs": [],
   "source": []
  },
  {
   "cell_type": "code",
   "execution_count": null,
   "metadata": {},
   "outputs": [],
   "source": []
  },
  {
   "cell_type": "code",
   "execution_count": null,
   "metadata": {},
   "outputs": [],
   "source": []
  },
  {
   "cell_type": "code",
   "execution_count": null,
   "metadata": {},
   "outputs": [],
   "source": []
  },
  {
   "cell_type": "code",
   "execution_count": null,
   "metadata": {},
   "outputs": [],
   "source": []
  },
  {
   "cell_type": "code",
   "execution_count": null,
   "metadata": {},
   "outputs": [],
   "source": []
  },
  {
   "cell_type": "code",
   "execution_count": null,
   "metadata": {},
   "outputs": [],
   "source": []
  }
 ],
 "metadata": {
  "kernelspec": {
   "display_name": "Python 3",
   "language": "python",
   "name": "python3"
  },
  "language_info": {
   "codemirror_mode": {
    "name": "ipython",
    "version": 3
   },
   "file_extension": ".py",
   "mimetype": "text/x-python",
   "name": "python",
   "nbconvert_exporter": "python",
   "pygments_lexer": "ipython3",
   "version": "3.8.3"
  }
 },
 "nbformat": 4,
 "nbformat_minor": 4
}
