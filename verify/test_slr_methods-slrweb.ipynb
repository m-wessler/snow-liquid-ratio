{
 "cells": [
  {
   "cell_type": "code",
   "execution_count": null,
   "metadata": {},
   "outputs": [],
   "source": [
    "import wrf\n",
    "import pandas as pd\n",
    "import numpy as np\n",
    "import xarray as xr\n",
    "import metpy.calc as mpc\n",
    "import multiprocessing as mp\n",
    "\n",
    "from functools import partial\n",
    "from metpy.units import units as mpu\n",
    "from datetime import datetime"
   ]
  },
  {
   "cell_type": "code",
   "execution_count": null,
   "metadata": {},
   "outputs": [],
   "source": [
    "def calc_wbzh(tw, gh, orog):\n",
    "    \n",
    "    # WBZ parameter: temperature to search for \n",
    "    # 0.5 degC as in Western Region tech. attachment\n",
    "    wbzparam = 0.5\n",
    "        \n",
    "    for i, level in enumerate(tw.level.values):\n",
    "        \n",
    "        if i > 0:\n",
    "\n",
    "            level_top = tw.isel(level=i).level.values\n",
    "            level_bot = tw.isel(level=i-1).level.values\n",
    "            print('Searching for WBZ between %d and %d hPa'%(level_bot, level_top))\n",
    "\n",
    "            gh_bot = gh.isel(level=i)\n",
    "            gh_top = gh.isel(level=i-1)\n",
    "\n",
    "            tw_bot = tw.isel(level=i)\n",
    "            tw_top = tw.isel(level=i-1)\n",
    "\n",
    "            # Linear interpolation of wbz height to use when/if it is between these two levels\n",
    "            interp_wbzh = gh_bot + ((wbzparam - tw_bot)*((gh_top - gh_bot)/(tw_top - tw_bot)))\n",
    "\n",
    "            if i == 1:\n",
    "                # First iteration, establish the wbz height (wbzh) array\n",
    "                # If WBZ between these two levels, use interpolated WBZH, else np.nan\n",
    "                wbzh = xr.where( (tw_bot >= wbzparam) & (tw_top <= wbzparam), interp_wbzh, np.nan)\n",
    "\n",
    "            else:\n",
    "                # If does not exist:\n",
    "                wbzh = xr.where( ((tw_bot >= wbzparam) & (tw_top <= wbzparam)) & (np.isnan(wbzh)), interp_wbzh, wbzh)\n",
    "            \n",
    "                # If exists and wbzh subterrainian\n",
    "                #wbzh = xr.where( ((tw_bot >= wbzparam) & (tw_top <= wbzparam)) & (~np.isnan(wbzh) & (wbzh >= orog.min())), interp_wbzh, wbzh)\n",
    "\n",
    "    # Where nans remain because entire column Tw < wbzparam, fill with 0 m AMSL\n",
    "    wbzh = xr.where(np.isnan(wbzh) & (tw.max(dim='level') < wbzparam), 0, wbzh)\n",
    "    \n",
    "    return wbzh"
   ]
  },
  {
   "cell_type": "code",
   "execution_count": null,
   "metadata": {},
   "outputs": [],
   "source": [
    "def calc_tlayer(t, gh, orog):\n",
    "    \n",
    "    # Determine geopotential height relative to ground level\n",
    "    # + 500 m buffer (see Alcott(?), I believe this may have been done as a bias correction)\n",
    "    gh_agl = (gh - (orog + 500.0))\n",
    "\n",
    "    # Where this is 0.0 m, set to 1.0 m\n",
    "    gh_agl = xr.where(gh_agl == 0.0, 1.0, gh_agl)\n",
    "    \n",
    "    # If the 1000mb height is > 0, use the 1000 mb temperature to start\n",
    "    # Otherwise assign t=0\n",
    "    tvals = xr.where(gh_agl.sel(level=1000) > 0, t.sel(level=1000), 0)\n",
    "    \n",
    "    # Iterate through the vertical levels\n",
    "    for i in range(t.level.size):\n",
    "                \n",
    "        # 'l' level\n",
    "        # 'z' geopotential height\n",
    "        # 'c/up/dn' current level/level above/level below\n",
    "        \n",
    "        # Current level\n",
    "        lc = t.level.isel(level=i).values\n",
    "        zc = gh_agl.isel(level=i)\n",
    "        tc = t.isel(level=i)\n",
    "                \n",
    "        # Level above (corrected for 'wraparound' when iterating)\n",
    "        up = i+1 if i+1 < t.level.size else 0\n",
    "        lup = t.level.isel(level=up).values\n",
    "        zup = gh_agl.isel(level=up)\n",
    "        tup = t.isel(level=up)\n",
    "        \n",
    "        # Level below (corrected for 'wraparound' when iterating)\n",
    "        ldn = t.level.isel(level=i-1).values\n",
    "        zdn = gh_agl.isel(level=i-1)\n",
    "        tdn = t.isel(level=i-1)\n",
    "        \n",
    "        # Print values for a sanity check while testing \n",
    "        # to ensure proper iteration/vertical wrap\n",
    "        # print(i, lc, lup, ldn)\n",
    "        \n",
    "        # Where the geopotential height AGL is > 0 at this level \n",
    "        # and geopotential height AGL is < 0 at level below...\n",
    "        tvals = xr.where(((zc > 0.0) & (zdn < 0.0)),\n",
    "        \n",
    "        # Determine a layer temperature\n",
    "        (( zc / ( zc - zup ) ) * ( tup - tc ) + tc ),\n",
    "        \n",
    "        # Else use layer temperature already determined\n",
    "        tvals)\n",
    "    \n",
    "    # In the strange exception case where 500 mb is below ground level\n",
    "    # apply T500 as Tlayer (redundant failsafe - probably not needed)\n",
    "    tlayer = xr.where(gh_agl.sel(level=500) < 0, t.sel(level=500), tvals)\n",
    "        \n",
    "    return tlayer"
   ]
  },
  {
   "cell_type": "code",
   "execution_count": null,
   "metadata": {},
   "outputs": [],
   "source": [
    "def calc_slr(tlayer, wbzh, orog):\n",
    "    \n",
    "    # Tunable transition layer parameters (m)\n",
    "    all_snow_buffer = 0\n",
    "    transition_layer = 200\n",
    "    \n",
    "    # Extend the snow level below the wet bulb zero parameter height if set\n",
    "    snow_level = wbzh - all_snow_buffer\n",
    "    snow_level = xr.where(snow_level < 0., 0., snow_level)\n",
    "\n",
    "    # Curve fit to Alcott and Steenburgh (2010) SMLR results\n",
    "    init_slr = xr.where(tlayer < 0., 5. - tlayer, 5.)\n",
    "    init_slr = xr.where(tlayer < -15., 20. + (tlayer + 15.), init_slr)\n",
    "    init_slr = xr.where(tlayer < -20., 15., init_slr)\n",
    "\n",
    "    # Keep the initial SLR calculations above the snow level\n",
    "    slr = xr.where(orog >= snow_level, init_slr, 0.)\n",
    "\n",
    "    # Linear attenuation of the SLR in the transition layer\n",
    "    slr = xr.where(\n",
    "        ((orog < snow_level) & (orog > (snow_level - transition_layer))),\n",
    "        (init_slr * (orog - (snow_level - transition_layer)) / transition_layer), slr)\n",
    "\n",
    "    return slr"
   ]
  },
  {
   "cell_type": "code",
   "execution_count": null,
   "metadata": {},
   "outputs": [],
   "source": [
    "def wetbulb(ti, pres, tkel, qv, units):\n",
    "    return wrf.wetbulb(pres.sel(time=ti), tkel.sel(time=ti), qv.sel(time=ti), units)"
   ]
  },
  {
   "cell_type": "code",
   "execution_count": null,
   "metadata": {},
   "outputs": [],
   "source": [
    "data = xr.open_dataset('./CLNX_12h_delay12_extract_gfs_ISO.nc').load()\n",
    "data = data[['t', 'gh', 'r']].isel(level=slice(20, 33))\n",
    "# data = data.sel(time=slice(datetime(2020, 1, 1, 0), datetime(2020, 1, 15, 12)))\n",
    "data"
   ]
  },
  {
   "cell_type": "code",
   "execution_count": null,
   "metadata": {},
   "outputs": [],
   "source": [
    "orog = xr.open_dataset('./gfs_fv3_orog.nc').sel(latitude=data.latitude, longitude=data.longitude+360)\n",
    "orog = orog['orog'].values\n",
    "orog = xr.DataArray(np.full(data.time.shape, fill_value=orog), dims='time')\n",
    "orog['time'] = data.time\n",
    "data['orog'] = orog"
   ]
  },
  {
   "cell_type": "code",
   "execution_count": null,
   "metadata": {},
   "outputs": [],
   "source": [
    "# There is no need for a hi resolution wet bulb, the difference\n",
    "# in order of calculate, downscale is negligible!\n",
    "print('Calculating Tw...')\n",
    "\n",
    "# Broadcast pressure levels to the dimensions of the data\n",
    "p = data.level\n",
    "_p = np.ones(data.t.shape)\n",
    "_p = np.array([_p[:, i]*p[i].values\n",
    "    for i in range(p.size)]).transpose(1, 0)\n",
    "p = data.t.copy().rename('p')\n",
    "p.values = _p\n",
    "\n",
    "# Calculate the mixing ratio\n",
    "qv = data.t.copy().rename('qv')\n",
    "\n",
    "qv.values = np.array(mpc.mixing_ratio_from_relative_humidity(\n",
    "    data.r.values/100, (data.t.values-273.15)*mpu.degC, p.values*mpu.millibar))\n",
    "\n",
    "# Repair the dimensions after metpy messes with them\n",
    "qv['time'] = data.time\n",
    "qv['level'] = data.level\n",
    "qv['lat'] = data.latitude\n",
    "qv['lon'] = data.longitude\n",
    "\n",
    "wetbulb_mp = partial(wetbulb, pres=p*100, tkel=data.t, qv=qv, units='degC')\n",
    "\n",
    "tw = [wetbulb_mp(ti) for ti in data.time.values]\n",
    "tw = xr.concat(tw, dim='time')\n",
    "\n",
    "# Repair the dimensions after wrf messes with them\n",
    "tw['time'] = data.time\n",
    "tw['level'] = data.level\n",
    "tw['lat'] = data.latitude\n",
    "tw['lon'] = data.longitude\n",
    "\n",
    "data['tw'] = tw\n",
    "print('Done')\n",
    "\n",
    "data['tw']"
   ]
  },
  {
   "cell_type": "code",
   "execution_count": null,
   "metadata": {},
   "outputs": [],
   "source": [
    "data.sel(level=data.level.values[::-1])\n",
    "wbzh = calc_wbzh(data['tw']-273.15, data['gh'], data['orog'])\n",
    "nn_times = wbzh[~np.isnan(wbzh)].time\n",
    "\n",
    "data['wbzh'] = wbzh\n",
    "data['wbzh']"
   ]
  },
  {
   "cell_type": "code",
   "execution_count": null,
   "metadata": {},
   "outputs": [],
   "source": [
    "tlayer = calc_tlayer(data['t']-273.15, data['gh'], data['orog'])\n",
    "tlayer"
   ]
  },
  {
   "cell_type": "code",
   "execution_count": null,
   "metadata": {},
   "outputs": [],
   "source": [
    "slr = calc_slr(tlayer, wbzh, data['orog']).rename('slr')\n",
    "slr"
   ]
  },
  {
   "cell_type": "code",
   "execution_count": null,
   "metadata": {},
   "outputs": [],
   "source": [
    "slr.plot.hist(bins=np.arange(0, 31, 1), edgecolor='k')"
   ]
  },
  {
   "cell_type": "code",
   "execution_count": null,
   "metadata": {},
   "outputs": [],
   "source": [
    "slr.to_netcdf('webslr.nc')"
   ]
  }
 ],
 "metadata": {
  "kernelspec": {
   "display_name": "Python 3",
   "language": "python",
   "name": "python3"
  },
  "language_info": {
   "codemirror_mode": {
    "name": "ipython",
    "version": 3
   },
   "file_extension": ".py",
   "mimetype": "text/x-python",
   "name": "python",
   "nbconvert_exporter": "python",
   "pygments_lexer": "ipython3",
   "version": "3.8.3"
  }
 },
 "nbformat": 4,
 "nbformat_minor": 4
}
