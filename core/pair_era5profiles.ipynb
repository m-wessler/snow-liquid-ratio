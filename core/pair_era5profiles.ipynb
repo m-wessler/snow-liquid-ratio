{
 "cells": [
  {
   "cell_type": "code",
   "execution_count": 48,
   "metadata": {},
   "outputs": [],
   "source": [
    "import numpy as np\n",
    "import pandas as pd\n",
    "import xarray as xr\n",
    "\n",
    "from os.path import isfile\n",
    "from glob import glob\n",
    "from datetime import datetime, timedelta\n",
    "\n",
    "import matplotlib.pyplot as plt"
   ]
  },
  {
   "cell_type": "code",
   "execution_count": 49,
   "metadata": {},
   "outputs": [],
   "source": [
    "obdir = '/uufs/chpc.utah.edu/common/home/steenburgh-group10/mewessler/observations/'\n",
    "profdir = '/uufs/chpc.utah.edu/common/home/steenburgh-group10/mewessler/era5/profiles/'"
   ]
  },
  {
   "cell_type": "code",
   "execution_count": 50,
   "metadata": {},
   "outputs": [
    {
     "data": {
      "text/plain": [
       "['CLN', 'ALTA', 'AGD', 'BCC', 'SLB', 'PVC']"
      ]
     },
     "execution_count": 50,
     "metadata": {},
     "output_type": "execute_result"
    }
   ],
   "source": [
    "flist = glob(obdir + 'clean/*.pd')\n",
    "\n",
    "# This can be a manual site list if desired\n",
    "site_list = [f.split('/')[-1].split('_')[0] for f in flist]\n",
    "site_list"
   ]
  },
  {
   "cell_type": "markdown",
   "metadata": {},
   "source": [
    "# Build into a loop over all stations"
   ]
  },
  {
   "cell_type": "code",
   "execution_count": 51,
   "metadata": {},
   "outputs": [],
   "source": [
    "# for site in site_list:\n",
    "site = 'CLN'"
   ]
  },
  {
   "cell_type": "markdown",
   "metadata": {},
   "source": [
    "### Obtain the metadata"
   ]
  },
  {
   "cell_type": "code",
   "execution_count": 52,
   "metadata": {},
   "outputs": [
    {
     "data": {
      "text/plain": [
       "name               Alta Collins\n",
       "owner            Alta Ski Lifts\n",
       "city                       Alta\n",
       "state                        UT\n",
       "lat                     40.5763\n",
       "lon                    -111.638\n",
       "elevation_m                2945\n",
       "start                       NaN\n",
       "end                         NaN\n",
       "interval                     12\n",
       "n_events                    NaN\n",
       "auto_manual              Manual\n",
       "snow_type      Snow Board (HSN)\n",
       "swe_type                    NaN\n",
       "notes                          \n",
       "Name: CLN, dtype: object"
      ]
     },
     "execution_count": 52,
     "metadata": {},
     "output_type": "execute_result"
    }
   ],
   "source": [
    "meta_file = glob(obdir + '*Metadata*.xlsx')[0]\n",
    "metadata = pd.read_excel(meta_file).set_index('code').loc[site]\n",
    "\n",
    "# Determine the lat, lon of the site from the metadata\n",
    "site_lat, site_lon = metadata['lat'], metadata['lon']\n",
    "site_elev = metadata['elevation_m']\n",
    "\n",
    "metadata"
   ]
  },
  {
   "cell_type": "code",
   "execution_count": 65,
   "metadata": {},
   "outputs": [
    {
     "name": "stdout",
     "output_type": "stream",
     "text": [
      "ERA5 Profile:\n",
      "40.50 -111.75 1967.42\n",
      "\n",
      "<xarray.Dataset>\n",
      "Dimensions:  (level: 23, time: 346224)\n",
      "Coordinates:\n",
      "  * time     (time) datetime64[ns] 1980-01-01 ... 2019-06-30T23:00:00\n",
      "  * level    (level) float64 200.0 225.0 250.0 300.0 ... 925.0 950.0 975.0 1e+03\n",
      "Data variables:\n",
      "    Q        (time, level) float32 8.430327e-06 2.2606831e-05 ... 0.0056080474\n",
      "    T        (time, level) float32 213.56236 213.23013 ... 302.55365 303.83582\n",
      "    U        (time, level) float32 32.258484 38.37195 ... -0.18589783\n",
      "    V        (time, level) float32 2.0954742 2.2194977 ... 4.7066345 4.6651\n",
      "    VO       (time, level) float32 6.204704e-06 ... -0.000121165765\n",
      "    W        (time, level) float32 0.017477036 0.077495575 ... -0.11104393\n",
      "    Z        (time, level) float32 115597.81 108389.75 ... 3440.6726 1319.3672\n",
      "    R        (time, level) float32 23.817059 75.24865 ... 28.302814 28.428883\n",
      "    U100M    (time) float32 -0.80430603 -0.3778534 ... 0.10606384 -0.1478424\n",
      "    V100M    (time) float32 3.1638489 2.9744568 2.462204 ... 7.476593 7.7515106\n",
      "    U10M     (time) float32 -1.4893188 -1.5206146 ... -0.039855957 -0.24354553\n",
      "    V10M     (time) float32 1.6339569 1.3688354 0.96391296 ... 5.375778 5.525528\n",
      "    D2M      (time) float32 266.99677 267.19528 267.8418 ... 275.589 276.91934\n",
      "    T2M      (time) float32 271.5562 272.63574 272.52084 ... 297.2037 295.7375\n",
      "    BLH      (time) float32 31.323132 27.115084 23.020882 ... 1808.563 1559.3384\n",
      "    CAPE     (time) float32 6.375 2.75 0.625 1.0 4.0 ... 17.25 9.75 0.0 0.0\n",
      "    MSL      (time) float32 101711.44 101740.75 ... 101636.375 101598.625\n",
      "    SP       (time) float32 80338.016 80350.84 80330.45 ... 80792.78 80753.83\n"
     ]
    }
   ],
   "source": [
    "# Import the era5_orog file to check the lat/lon grid\n",
    "era_dir = '/uufs/chpc.utah.edu/common/home/steenburgh-group10/mewessler/era5/'\n",
    "era5_orog_file = era_dir + 'era5_orog.nc'\n",
    "era5_orog = xr.open_dataset(era5_orog_file)['z'].isel(time=0)\n",
    "era5_orog = era5_orog.rename({'latitude':'lat', 'longitude':'lon'})\n",
    "era5_lat, era5_lon = era5_orog['lat'], era5_orog['lon']\n",
    "\n",
    "# Find the index of the correct lat lon\n",
    "idx1d = (np.abs(era5_lon - site_lon) + np.abs(era5_lat - site_lat))\n",
    "idx = np.unravel_index(np.argmin(idx1d, axis=None), idx1d.shape)\n",
    "\n",
    "# Subset and convert gpm to m\n",
    "era5_g = 9.80665\n",
    "era5_orog = era5_orog.isel(lat=idx[1], lon=idx[0])/era5_g\n",
    "\n",
    "era5_lat, era5_lon = era5_orog['lat'].values, era5_orog['lon'].values\n",
    "era5_elev = era5_orog.values\n",
    "\n",
    "print('ERA5 Profile:\\n%.2f %.2f %.2f\\n'%(era5_lat, era5_lon, era5_elev))\n",
    "\n",
    "era5_prof_file = 'era5prof_{}N_{}W.nc'.format(\n",
    "    era5_orog['lat'].values, abs(era5_orog['lon'].values))\n",
    "\n",
    "if isfile(era_dir + 'profiles/' + era5_prof_file):\n",
    "    era5_prof = xr.open_dataset(era_dir + 'profiles/' + era5_prof_file).load()\n",
    "    print(era5_prof)\n",
    "    \n",
    "else:\n",
    "    print('ERA5 Profile Missing:\\n%s'%era5_prof_file)"
   ]
  },
  {
   "cell_type": "code",
   "execution_count": 74,
   "metadata": {},
   "outputs": [],
   "source": [
    "# df = era5_prof.to_dataframe()\n",
    "# df[:10]"
   ]
  },
  {
   "cell_type": "code",
   "execution_count": 75,
   "metadata": {},
   "outputs": [],
   "source": [
    "# df.reset_index().set_index(['time', 'level']).sort_index()"
   ]
  }
 ],
 "metadata": {
  "kernelspec": {
   "display_name": "Python 3",
   "language": "python",
   "name": "python3"
  },
  "language_info": {
   "codemirror_mode": {
    "name": "ipython",
    "version": 3
   },
   "file_extension": ".py",
   "mimetype": "text/x-python",
   "name": "python",
   "nbconvert_exporter": "python",
   "pygments_lexer": "ipython3",
   "version": "3.6.5"
  }
 },
 "nbformat": 4,
 "nbformat_minor": 2
}
