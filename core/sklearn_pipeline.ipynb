{
 "cells": [
  {
   "cell_type": "code",
   "execution_count": 1,
   "metadata": {},
   "outputs": [],
   "source": [
    "import numpy as np\n",
    "import pandas as pd\n",
    "import seaborn as sns\n",
    "import matplotlib.pyplot as plt\n",
    "\n",
    "from glob import glob\n",
    "from sklearn.model_selection import train_test_split\n",
    "\n",
    "import os\n",
    "os.environ['OMP_NUM_THREADS'] = \"1\""
   ]
  },
  {
   "cell_type": "code",
   "execution_count": 2,
   "metadata": {},
   "outputs": [],
   "source": [
    "obdir = '/uufs/chpc.utah.edu/common/home/steenburgh-group10/mewessler/observations/'"
   ]
  },
  {
   "cell_type": "markdown",
   "metadata": {},
   "source": [
    "### Choose which sites to train the SVR model on\n",
    "Can be all available, or a defined list 'site_list' passed, or single station as list e.g. ['CLN']<br>\n",
    "Use all with an exclude list is another alternative"
   ]
  },
  {
   "cell_type": "code",
   "execution_count": 106,
   "metadata": {},
   "outputs": [
    {
     "data": {
      "text/plain": [
       "['CLN']"
      ]
     },
     "execution_count": 106,
     "metadata": {},
     "output_type": "execute_result"
    }
   ],
   "source": [
    "flist = glob(obdir + 'combined/*.pd')\n",
    "\n",
    "# This can be a manual site list if desired\n",
    "site_list = np.unique([f.split('/')[-1].split('_')[0] for f in flist])\n",
    "site_list = ['CLN']\n",
    "\n",
    "site_list"
   ]
  },
  {
   "cell_type": "markdown",
   "metadata": {},
   "source": [
    "### For each site, choose which files to use\n",
    "For now, we will only use one set of observations from each site so samples remain independent<br>\n",
    "We can change this behavior down the road to use all or some intervals<br>\n",
    "Favor 'short' for the shortest interval available e.g. 6h, 'long' for longest interval e.g. 24h"
   ]
  },
  {
   "cell_type": "code",
   "execution_count": 107,
   "metadata": {},
   "outputs": [
    {
     "data": {
      "text/plain": [
       "['/uufs/chpc.utah.edu/common/home/steenburgh-group10/mewessler/observations/combined/CLN_1999_2019.12h.pd']"
      ]
     },
     "execution_count": 107,
     "metadata": {},
     "output_type": "execute_result"
    }
   ],
   "source": [
    "favor = 'short' #'long'\n",
    "\n",
    "flist = []\n",
    "for site in site_list:\n",
    "    \n",
    "    site_files = glob(obdir + 'combined/%s*.pd'%site)\n",
    "    \n",
    "    if len(site_files) > 1:\n",
    "        if favor == 'short':\n",
    "            flist.append(\n",
    "                site_files[np.argmin([int(f.split('.')[-2].replace('h', '')) \n",
    "                    for f in site_files])])\n",
    "            \n",
    "        elif favor == 'long':\n",
    "            np.argmax([int(f.split('.')[-2].replace('h', '')) for f in site_files])\n",
    "    \n",
    "    else:\n",
    "        flist.append(site_files[0])\n",
    "        \n",
    "flist"
   ]
  },
  {
   "cell_type": "markdown",
   "metadata": {},
   "source": [
    "### Establish which model variables and levels to use\n",
    "This is entirely based on the model that the SVR will be applied to - maximize the predictor set<br>\n",
    "Helpful to open a sample GFS/NAM/HRRR grid or profile to derive the variable list from"
   ]
  },
  {
   "cell_type": "code",
   "execution_count": 108,
   "metadata": {},
   "outputs": [
    {
     "name": "stderr",
     "output_type": "stream",
     "text": [
      "/uufs/chpc.utah.edu/common/home/u1070830/.conda/envs/downscaled_slr/lib/python3.6/site-packages/ipykernel_launcher.py:32: FutureWarning: elementwise comparison failed; returning scalar instead, but in the future will perform elementwise comparison\n",
      "/uufs/chpc.utah.edu/common/home/u1070830/.conda/envs/downscaled_slr/lib/python3.6/site-packages/ipykernel_launcher.py:34: FutureWarning: elementwise comparison failed; returning scalar instead, but in the future will perform elementwise comparison\n"
     ]
    },
    {
     "data": {
      "text/plain": [
       "array(['VO1000', 'VO400', 'VO450', 'VO500', 'VO550', 'VO600', 'VO650',\n",
       "       'VO700', 'VO750', 'VO800', 'VO850', 'VO900', 'VO925', 'VO950',\n",
       "       'VO975', 'CAPE', 'DIR1000', 'DIR400', 'DIR450', 'DIR500', 'DIR550',\n",
       "       'DIR600', 'DIR650', 'DIR700', 'DIR750', 'DIR800', 'DIR850',\n",
       "       'DIR900', 'DIR925', 'DIR950', 'DIR975', 'Z1000', 'Z400', 'Z450',\n",
       "       'Z500', 'Z550', 'Z600', 'Z650', 'Z700', 'Z750', 'Z800', 'Z850',\n",
       "       'Z900', 'Z925', 'Z950', 'Z975', 'RH1000', 'RH400', 'RH450',\n",
       "       'RH500', 'RH550', 'RH600', 'RH650', 'RH700', 'RH750', 'RH800',\n",
       "       'RH850', 'RH900', 'RH925', 'RH950', 'RH975', 'SP', 'SPD1000',\n",
       "       'SPD400', 'SPD450', 'SPD500', 'SPD550', 'SPD600', 'SPD650',\n",
       "       'SPD700', 'SPD750', 'SPD800', 'SPD850', 'SPD900', 'SPD925',\n",
       "       'SPD950', 'SPD975', 'T1000', '2T', 'T400', 'T450', 'T500', 'T550',\n",
       "       'T600', 'T650', 'T700', 'T750', 'T800', 'T850', 'T900', 'T925',\n",
       "       'T950', 'T975', 'TSFC', 'U1000', 'U400', 'U450', 'U500', 'U550',\n",
       "       'U600', 'U650', 'U700', 'U750', 'U800', 'U850', 'U900', 'U925',\n",
       "       'U950', 'U975', 'V1000', 'V400', 'V450', 'V500', 'V550', 'V600',\n",
       "       'V650', 'V700', 'V750', 'V800', 'V850', 'V900', 'V925', 'V950',\n",
       "       'V975', 'W1000', 'W400', 'W450', 'W500', 'W550', 'W600', 'W650',\n",
       "       'W700', 'W750', 'W800', 'W850', 'W900', 'W925', 'W950', 'W975'],\n",
       "      dtype='<U7')"
      ]
     },
     "execution_count": 108,
     "metadata": {},
     "output_type": "execute_result"
    }
   ],
   "source": [
    "# For now we can reuse the fixed list from the proof-of-concept script\n",
    "# But this needs to be made flexible\n",
    "gfs_keys = [\n",
    "       'VO1000', 'VO400', 'VO450', 'VO500', 'VO550', 'VO600', 'VO650',\n",
    "       'VO700', 'VO750', 'VO800', 'VO850', 'VO900', 'VO925', 'VO950',\n",
    "       'VO975', 'CAPE', 'DIR1000', 'DIR400', 'DIR450', 'DIR500', 'DIR550',\n",
    "       'DIR600', 'DIR650', 'DIR700', 'DIR750', 'DIR800', 'DIR850',\n",
    "       'DIR900', 'DIR925', 'DIR950', 'DIR975', 'Z1000', 'Z400', 'Z450',\n",
    "       'Z500', 'Z550', 'Z600', 'Z650', 'Z700', 'Z750', 'Z800', 'Z850',\n",
    "       'Z900', 'Z925', 'Z950', 'Z975', 'RH1000', 'RH400', 'RH450',\n",
    "       'RH500', 'RH550', 'RH600', 'RH650', 'RH700', 'RH750', 'RH800',\n",
    "       'RH850', 'RH900', 'RH925', 'RH950', 'RH975', 'SP', 'SPD1000',\n",
    "       'SPD400', 'SPD450', 'SPD500', 'SPD550', 'SPD600', 'SPD650',\n",
    "       'SPD700', 'SPD750', 'SPD800', 'SPD850', 'SPD900', 'SPD925',\n",
    "       'SPD950', 'SPD975', 'T1000', '2T', 'T400', 'T450', 'T500', 'T550',\n",
    "       'T600', 'T650', 'T700', 'T750', 'T800', 'T850', 'T900', 'T925',\n",
    "       'T950', 'T975', 'TSFC', 'U1000', 'U400', 'U450', 'U500', 'U550',\n",
    "       'U600', 'U650', 'U700', 'U750', 'U800', 'U850', 'U900', 'U925',\n",
    "       'U950', 'U975', 'V1000', 'V400', 'V450', 'V500', 'V550', 'V600',\n",
    "       'V650', 'V700', 'V750', 'V800', 'V850', 'V900', 'V925', 'V950',\n",
    "       'V975', 'W1000', 'W400', 'W450', 'W500', 'W550', 'W600', 'W650',\n",
    "       'W700', 'W750', 'W800', 'W850', 'W900', 'W925', 'W950', 'W975']\n",
    "\n",
    "gfs_levels = [400, 450, 500,550,600, 650, 700, 750, \n",
    "              800, 850, 900, 925, 950, 975, 1000]\n",
    "\n",
    "exclude_keys = []#['Z', '2T', 'TSFC', 'SP', 'CAPE', 'VO', 'W']\n",
    "\n",
    "exclude_keys = np.array([[k if ex in k[:len(ex)] else np.nan \n",
    "                          for ex in exclude_keys] for k in gfs_keys])\n",
    "exclude_keys = exclude_keys.flatten()\n",
    "exclude_keys = exclude_keys[exclude_keys != 'nan']\n",
    "\n",
    "gfs_keys = np.array([k for k in gfs_keys if k not in exclude_keys])\n",
    "gfs_keys"
   ]
  },
  {
   "cell_type": "markdown",
   "metadata": {},
   "source": [
    "### Import the compiled data\n",
    "Prune unused variables on import based on the list above<br>\n",
    "Sub-surface levels have already been dealt with in the compilation script - modify methods there<br>\n",
    "Note that 12 vs 24 hour intervals have also been dealt with above, if both desired... write that in"
   ]
  },
  {
   "cell_type": "code",
   "execution_count": 109,
   "metadata": {},
   "outputs": [
    {
     "name": "stdout",
     "output_type": "stream",
     "text": [
      "(1665, 68)\n"
     ]
    },
    {
     "data": {
      "text/html": [
       "<div>\n",
       "<style scoped>\n",
       "    .dataframe tbody tr th:only-of-type {\n",
       "        vertical-align: middle;\n",
       "    }\n",
       "\n",
       "    .dataframe tbody tr th {\n",
       "        vertical-align: top;\n",
       "    }\n",
       "\n",
       "    .dataframe thead th {\n",
       "        text-align: right;\n",
       "    }\n",
       "</style>\n",
       "<table border=\"1\" class=\"dataframe\">\n",
       "  <thead>\n",
       "    <tr style=\"text-align: right;\">\n",
       "      <th></th>\n",
       "      <th>slr</th>\n",
       "      <th>swe_mm</th>\n",
       "      <th>day_of_year</th>\n",
       "      <th>T400</th>\n",
       "      <th>U400</th>\n",
       "      <th>V400</th>\n",
       "      <th>VO400</th>\n",
       "      <th>W400</th>\n",
       "      <th>Z400</th>\n",
       "      <th>SPD400</th>\n",
       "      <th>...</th>\n",
       "      <th>SPD750</th>\n",
       "      <th>T800</th>\n",
       "      <th>U800</th>\n",
       "      <th>V800</th>\n",
       "      <th>VO800</th>\n",
       "      <th>W800</th>\n",
       "      <th>Z800</th>\n",
       "      <th>SPD800</th>\n",
       "      <th>CAPE</th>\n",
       "      <th>SP</th>\n",
       "    </tr>\n",
       "  </thead>\n",
       "  <tbody>\n",
       "    <tr>\n",
       "      <th>0</th>\n",
       "      <td>9.523809</td>\n",
       "      <td>10.668</td>\n",
       "      <td>312</td>\n",
       "      <td>245.751221</td>\n",
       "      <td>14.262792</td>\n",
       "      <td>18.845314</td>\n",
       "      <td>-0.000007</td>\n",
       "      <td>-0.282659</td>\n",
       "      <td>72119.179688</td>\n",
       "      <td>23.807833</td>\n",
       "      <td>...</td>\n",
       "      <td>11.576412</td>\n",
       "      <td>286.184265</td>\n",
       "      <td>-0.407485</td>\n",
       "      <td>5.358132</td>\n",
       "      <td>-0.000366</td>\n",
       "      <td>0.256965</td>\n",
       "      <td>19498.025391</td>\n",
       "      <td>5.541474</td>\n",
       "      <td>1.038462</td>\n",
       "      <td>80253.921875</td>\n",
       "    </tr>\n",
       "    <tr>\n",
       "      <th>1</th>\n",
       "      <td>11.320755</td>\n",
       "      <td>13.462</td>\n",
       "      <td>321</td>\n",
       "      <td>245.860687</td>\n",
       "      <td>13.253074</td>\n",
       "      <td>27.635181</td>\n",
       "      <td>-0.000044</td>\n",
       "      <td>-0.518515</td>\n",
       "      <td>71582.046875</td>\n",
       "      <td>30.789095</td>\n",
       "      <td>...</td>\n",
       "      <td>11.845341</td>\n",
       "      <td>286.156799</td>\n",
       "      <td>-0.658640</td>\n",
       "      <td>4.628677</td>\n",
       "      <td>-0.000338</td>\n",
       "      <td>0.191280</td>\n",
       "      <td>18832.937500</td>\n",
       "      <td>5.377541</td>\n",
       "      <td>0.153846</td>\n",
       "      <td>79608.828125</td>\n",
       "    </tr>\n",
       "    <tr>\n",
       "      <th>2</th>\n",
       "      <td>8.695652</td>\n",
       "      <td>5.842</td>\n",
       "      <td>324</td>\n",
       "      <td>247.194550</td>\n",
       "      <td>23.618073</td>\n",
       "      <td>13.456594</td>\n",
       "      <td>-0.000019</td>\n",
       "      <td>0.183329</td>\n",
       "      <td>72402.429688</td>\n",
       "      <td>27.394947</td>\n",
       "      <td>...</td>\n",
       "      <td>10.392151</td>\n",
       "      <td>281.588654</td>\n",
       "      <td>-1.551895</td>\n",
       "      <td>3.541852</td>\n",
       "      <td>-0.000251</td>\n",
       "      <td>0.402385</td>\n",
       "      <td>19654.679688</td>\n",
       "      <td>3.930658</td>\n",
       "      <td>0.548077</td>\n",
       "      <td>80416.054688</td>\n",
       "    </tr>\n",
       "    <tr>\n",
       "      <th>3</th>\n",
       "      <td>18.181818</td>\n",
       "      <td>2.794</td>\n",
       "      <td>324</td>\n",
       "      <td>243.966476</td>\n",
       "      <td>26.156818</td>\n",
       "      <td>9.112763</td>\n",
       "      <td>0.000035</td>\n",
       "      <td>-0.103810</td>\n",
       "      <td>71192.046875</td>\n",
       "      <td>28.957607</td>\n",
       "      <td>...</td>\n",
       "      <td>5.438491</td>\n",
       "      <td>277.557007</td>\n",
       "      <td>0.522875</td>\n",
       "      <td>1.790523</td>\n",
       "      <td>-0.000107</td>\n",
       "      <td>0.006187</td>\n",
       "      <td>19554.835938</td>\n",
       "      <td>2.677736</td>\n",
       "      <td>2.927885</td>\n",
       "      <td>80313.203125</td>\n",
       "    </tr>\n",
       "    <tr>\n",
       "      <th>4</th>\n",
       "      <td>16.071428</td>\n",
       "      <td>7.112</td>\n",
       "      <td>325</td>\n",
       "      <td>242.414658</td>\n",
       "      <td>25.918653</td>\n",
       "      <td>-0.349203</td>\n",
       "      <td>0.000037</td>\n",
       "      <td>-0.012761</td>\n",
       "      <td>70443.890625</td>\n",
       "      <td>26.516172</td>\n",
       "      <td>...</td>\n",
       "      <td>2.433492</td>\n",
       "      <td>275.800568</td>\n",
       "      <td>-0.293900</td>\n",
       "      <td>-0.477268</td>\n",
       "      <td>0.000029</td>\n",
       "      <td>0.294072</td>\n",
       "      <td>19316.310547</td>\n",
       "      <td>1.532066</td>\n",
       "      <td>4.125000</td>\n",
       "      <td>80073.867188</td>\n",
       "    </tr>\n",
       "  </tbody>\n",
       "</table>\n",
       "<p>5 rows × 68 columns</p>\n",
       "</div>"
      ],
      "text/plain": [
       "         slr  swe_mm  day_of_year        T400       U400       V400     VO400  \\\n",
       "0   9.523809  10.668          312  245.751221  14.262792  18.845314 -0.000007   \n",
       "1  11.320755  13.462          321  245.860687  13.253074  27.635181 -0.000044   \n",
       "2   8.695652   5.842          324  247.194550  23.618073  13.456594 -0.000019   \n",
       "3  18.181818   2.794          324  243.966476  26.156818   9.112763  0.000035   \n",
       "4  16.071428   7.112          325  242.414658  25.918653  -0.349203  0.000037   \n",
       "\n",
       "       W400          Z400     SPD400      ...          SPD750        T800  \\\n",
       "0 -0.282659  72119.179688  23.807833      ...       11.576412  286.184265   \n",
       "1 -0.518515  71582.046875  30.789095      ...       11.845341  286.156799   \n",
       "2  0.183329  72402.429688  27.394947      ...       10.392151  281.588654   \n",
       "3 -0.103810  71192.046875  28.957607      ...        5.438491  277.557007   \n",
       "4 -0.012761  70443.890625  26.516172      ...        2.433492  275.800568   \n",
       "\n",
       "       U800      V800     VO800      W800          Z800    SPD800      CAPE  \\\n",
       "0 -0.407485  5.358132 -0.000366  0.256965  19498.025391  5.541474  1.038462   \n",
       "1 -0.658640  4.628677 -0.000338  0.191280  18832.937500  5.377541  0.153846   \n",
       "2 -1.551895  3.541852 -0.000251  0.402385  19654.679688  3.930658  0.548077   \n",
       "3  0.522875  1.790523 -0.000107  0.006187  19554.835938  2.677736  2.927885   \n",
       "4 -0.293900 -0.477268  0.000029  0.294072  19316.310547  1.532066  4.125000   \n",
       "\n",
       "             SP  \n",
       "0  80253.921875  \n",
       "1  79608.828125  \n",
       "2  80416.054688  \n",
       "3  80313.203125  \n",
       "4  80073.867188  \n",
       "\n",
       "[5 rows x 68 columns]"
      ]
     },
     "execution_count": 109,
     "metadata": {},
     "output_type": "execute_result"
    }
   ],
   "source": [
    "use_var_type = ['mean']#, 'max', 'min']\n",
    "\n",
    "data = []\n",
    "for f in flist:\n",
    "    \n",
    "    site = f.split('/')[-1].split('_')[0]\n",
    "    interval = int(f.split('/')[-1].split('.')[-2].replace('h', ''))\n",
    "    \n",
    "    df = pd.read_pickle(f)\n",
    "\n",
    "    keys = ['slr%d'%interval, 'swe%d_mm'%interval]\n",
    "    \n",
    "    keys.extend(np.hstack([[k for k in df.keys() \n",
    "                  if ((vt in k) & (k.split('_')[0] in gfs_keys))] \n",
    "                 for vt in use_var_type]))\n",
    "\n",
    "    df = df.loc[:, keys].rename(columns={[k for k in keys if 'swe' in k][0]:'swe_mm'})\n",
    "    df = df.rename(columns={[k for k in keys if 'slr' in k][0]:'slr'})\n",
    "    \n",
    "    # df.insert(0, 'site', np.full(df.index.size, fill_value=site, dtype='U10'))\n",
    "    doy = [int(pd.to_datetime(d).strftime('%j')) for d in df.index]\n",
    "    df.insert(2, 'day_of_year', doy)\n",
    "    \n",
    "    data.append(df.reset_index().drop(columns='time'))\n",
    "\n",
    "data = pd.concat(data, sort=False)\n",
    "\n",
    "# Treat the mean value as the instantaneous value for later applications,\n",
    "# we can change this behavior later on if desired. \n",
    "# An alternate method would be to keep the 'mean' tag through training \n",
    "# and choose behavior upon application\n",
    "data = data.rename(columns={k:k.replace('_mean', '') for k in data.keys()})\n",
    "\n",
    "print(data.shape)\n",
    "data.head()"
   ]
  },
  {
   "cell_type": "markdown",
   "metadata": {},
   "source": [
    "### Hard trim data based on criteria"
   ]
  },
  {
   "cell_type": "code",
   "execution_count": 110,
   "metadata": {},
   "outputs": [
    {
     "name": "stdout",
     "output_type": "stream",
     "text": [
      "(1519, 67)\n"
     ]
    }
   ],
   "source": [
    "min_slr, max_slr = 2.5, 30\n",
    "max_T650 = 0 + 273.15\n",
    "min_swe_mm = 2.54\n",
    "\n",
    "data = data[data['slr'] >= min_slr]\n",
    "data = data[data['slr'] <= max_slr]\n",
    "data = data[data['T650'] <= max_T650]\n",
    "data = data[data['swe_mm'] >= min_swe_mm]\n",
    "\n",
    "data = data[[k for k in data.keys() if 'swe' not in k]]\n",
    "\n",
    "print(data.shape)"
   ]
  },
  {
   "cell_type": "markdown",
   "metadata": {},
   "source": [
    "<hr><hr>"
   ]
  },
  {
   "cell_type": "markdown",
   "metadata": {},
   "source": [
    "### Investigate basic bulk statistics and linear correlations\n",
    "Quanitfy how certain variables are related and produce plots to visualize this<br>"
   ]
  },
  {
   "cell_type": "markdown",
   "metadata": {},
   "source": [
    "#### *Removed: Normalize/Standardize\n",
    "Moved down to where datasets are split. If need be we can normalize for the plots below here too..."
   ]
  },
  {
   "cell_type": "markdown",
   "metadata": {},
   "source": [
    "#### Pair Plots"
   ]
  },
  {
   "cell_type": "code",
   "execution_count": null,
   "metadata": {},
   "outputs": [],
   "source": []
  },
  {
   "cell_type": "markdown",
   "metadata": {},
   "source": [
    "#### Correlation Matrix, R2 Matrix"
   ]
  },
  {
   "cell_type": "code",
   "execution_count": null,
   "metadata": {},
   "outputs": [],
   "source": []
  },
  {
   "cell_type": "markdown",
   "metadata": {},
   "source": [
    "#### Linear Correlation Verical Plots, R2 Vertical Plots"
   ]
  },
  {
   "cell_type": "code",
   "execution_count": null,
   "metadata": {},
   "outputs": [],
   "source": []
  },
  {
   "cell_type": "markdown",
   "metadata": {},
   "source": [
    "#### Identify autocorrelated and other dependent predictors\n",
    "Mask these if desired"
   ]
  },
  {
   "cell_type": "code",
   "execution_count": null,
   "metadata": {},
   "outputs": [],
   "source": []
  },
  {
   "cell_type": "markdown",
   "metadata": {},
   "source": [
    "<hr><hr>"
   ]
  },
  {
   "cell_type": "markdown",
   "metadata": {},
   "source": [
    "### Split Train/Test/Validate Sets\n",
    "If we want to expand the hyperparameter tuning, we can test for sensitivity to random sample<br>\n",
    "by looping from bottom of code block back to here<br>"
   ]
  },
  {
   "cell_type": "code",
   "execution_count": 111,
   "metadata": {},
   "outputs": [
    {
     "data": {
      "text/plain": [
       "10.0    238\n",
       "12.0    222\n",
       "16.0    196\n",
       "8.0     191\n",
       "14.0    156\n",
       "18.0    121\n",
       "6.0     113\n",
       "20.0    102\n",
       "24.0     56\n",
       "22.0     55\n",
       "4.0      28\n",
       "26.0     15\n",
       "28.0     13\n",
       "30.0     11\n",
       "2.0       2\n",
       "Name: slr, dtype: int64"
      ]
     },
     "execution_count": 111,
     "metadata": {},
     "output_type": "execute_result"
    }
   ],
   "source": [
    "# int(slr) for stratification (> 1 ct per class label)\n",
    "data = data.dropna()\n",
    "fac = 2\n",
    "slr = np.round(data['slr']/fac, 0)*fac\n",
    "slr.value_counts()\n",
    "\n",
    "# data['slr'] = slr"
   ]
  },
  {
   "cell_type": "code",
   "execution_count": 112,
   "metadata": {},
   "outputs": [
    {
     "name": "stdout",
     "output_type": "stream",
     "text": [
      "Train: 1017\n",
      "Test: 502\n",
      "Validate: None\n"
     ]
    },
    {
     "data": {
      "text/html": [
       "<div>\n",
       "<style scoped>\n",
       "    .dataframe tbody tr th:only-of-type {\n",
       "        vertical-align: middle;\n",
       "    }\n",
       "\n",
       "    .dataframe tbody tr th {\n",
       "        vertical-align: top;\n",
       "    }\n",
       "\n",
       "    .dataframe thead th {\n",
       "        text-align: right;\n",
       "    }\n",
       "</style>\n",
       "<table border=\"1\" class=\"dataframe\">\n",
       "  <thead>\n",
       "    <tr style=\"text-align: right;\">\n",
       "      <th></th>\n",
       "      <th>count</th>\n",
       "      <th>mean</th>\n",
       "      <th>std</th>\n",
       "      <th>min</th>\n",
       "      <th>25%</th>\n",
       "      <th>50%</th>\n",
       "      <th>75%</th>\n",
       "      <th>max</th>\n",
       "    </tr>\n",
       "  </thead>\n",
       "  <tbody>\n",
       "    <tr>\n",
       "      <th>day_of_year</th>\n",
       "      <td>1017.0</td>\n",
       "      <td>155.295969</td>\n",
       "      <td>135.176284</td>\n",
       "      <td>1.000000</td>\n",
       "      <td>47.000000</td>\n",
       "      <td>8.800000e+01</td>\n",
       "      <td>324.000000</td>\n",
       "      <td>366.000000</td>\n",
       "    </tr>\n",
       "    <tr>\n",
       "      <th>T400</th>\n",
       "      <td>1017.0</td>\n",
       "      <td>239.866104</td>\n",
       "      <td>4.509378</td>\n",
       "      <td>224.297226</td>\n",
       "      <td>236.958267</td>\n",
       "      <td>2.402485e+02</td>\n",
       "      <td>243.160507</td>\n",
       "      <td>251.491348</td>\n",
       "    </tr>\n",
       "    <tr>\n",
       "      <th>U400</th>\n",
       "      <td>1017.0</td>\n",
       "      <td>19.156443</td>\n",
       "      <td>11.569384</td>\n",
       "      <td>-16.917448</td>\n",
       "      <td>11.061075</td>\n",
       "      <td>1.922440e+01</td>\n",
       "      <td>26.402649</td>\n",
       "      <td>59.784084</td>\n",
       "    </tr>\n",
       "    <tr>\n",
       "      <th>V400</th>\n",
       "      <td>1017.0</td>\n",
       "      <td>3.720218</td>\n",
       "      <td>15.275477</td>\n",
       "      <td>-54.728245</td>\n",
       "      <td>-5.490825</td>\n",
       "      <td>5.094398e+00</td>\n",
       "      <td>14.151258</td>\n",
       "      <td>45.693340</td>\n",
       "    </tr>\n",
       "    <tr>\n",
       "      <th>VO400</th>\n",
       "      <td>1017.0</td>\n",
       "      <td>0.000010</td>\n",
       "      <td>0.000051</td>\n",
       "      <td>-0.000108</td>\n",
       "      <td>-0.000025</td>\n",
       "      <td>-4.507422e-07</td>\n",
       "      <td>0.000035</td>\n",
       "      <td>0.000263</td>\n",
       "    </tr>\n",
       "    <tr>\n",
       "      <th>W400</th>\n",
       "      <td>1017.0</td>\n",
       "      <td>-0.085564</td>\n",
       "      <td>0.291611</td>\n",
       "      <td>-1.317631</td>\n",
       "      <td>-0.225382</td>\n",
       "      <td>-4.292385e-02</td>\n",
       "      <td>0.096256</td>\n",
       "      <td>0.873093</td>\n",
       "    </tr>\n",
       "    <tr>\n",
       "      <th>Z400</th>\n",
       "      <td>1017.0</td>\n",
       "      <td>70259.148438</td>\n",
       "      <td>1090.618164</td>\n",
       "      <td>66812.320312</td>\n",
       "      <td>69528.617188</td>\n",
       "      <td>7.028318e+04</td>\n",
       "      <td>71089.125000</td>\n",
       "      <td>72975.968750</td>\n",
       "    </tr>\n",
       "    <tr>\n",
       "      <th>SPD400</th>\n",
       "      <td>1017.0</td>\n",
       "      <td>25.738329</td>\n",
       "      <td>10.453670</td>\n",
       "      <td>3.018148</td>\n",
       "      <td>18.272676</td>\n",
       "      <td>2.570155e+01</td>\n",
       "      <td>32.985020</td>\n",
       "      <td>67.926323</td>\n",
       "    </tr>\n",
       "    <tr>\n",
       "      <th>T450</th>\n",
       "      <td>1017.0</td>\n",
       "      <td>245.940735</td>\n",
       "      <td>4.539683</td>\n",
       "      <td>230.203537</td>\n",
       "      <td>243.061523</td>\n",
       "      <td>2.464266e+02</td>\n",
       "      <td>249.321548</td>\n",
       "      <td>256.540161</td>\n",
       "    </tr>\n",
       "    <tr>\n",
       "      <th>U450</th>\n",
       "      <td>1017.0</td>\n",
       "      <td>16.817188</td>\n",
       "      <td>9.805645</td>\n",
       "      <td>-11.972133</td>\n",
       "      <td>10.219059</td>\n",
       "      <td>1.683064e+01</td>\n",
       "      <td>22.956785</td>\n",
       "      <td>52.233501</td>\n",
       "    </tr>\n",
       "  </tbody>\n",
       "</table>\n",
       "</div>"
      ],
      "text/plain": [
       "              count          mean          std           min           25%  \\\n",
       "day_of_year  1017.0    155.295969   135.176284      1.000000     47.000000   \n",
       "T400         1017.0    239.866104     4.509378    224.297226    236.958267   \n",
       "U400         1017.0     19.156443    11.569384    -16.917448     11.061075   \n",
       "V400         1017.0      3.720218    15.275477    -54.728245     -5.490825   \n",
       "VO400        1017.0      0.000010     0.000051     -0.000108     -0.000025   \n",
       "W400         1017.0     -0.085564     0.291611     -1.317631     -0.225382   \n",
       "Z400         1017.0  70259.148438  1090.618164  66812.320312  69528.617188   \n",
       "SPD400       1017.0     25.738329    10.453670      3.018148     18.272676   \n",
       "T450         1017.0    245.940735     4.539683    230.203537    243.061523   \n",
       "U450         1017.0     16.817188     9.805645    -11.972133     10.219059   \n",
       "\n",
       "                      50%           75%           max  \n",
       "day_of_year  8.800000e+01    324.000000    366.000000  \n",
       "T400         2.402485e+02    243.160507    251.491348  \n",
       "U400         1.922440e+01     26.402649     59.784084  \n",
       "V400         5.094398e+00     14.151258     45.693340  \n",
       "VO400       -4.507422e-07      0.000035      0.000263  \n",
       "W400        -4.292385e-02      0.096256      0.873093  \n",
       "Z400         7.028318e+04  71089.125000  72975.968750  \n",
       "SPD400       2.570155e+01     32.985020     67.926323  \n",
       "T450         2.464266e+02    249.321548    256.540161  \n",
       "U450         1.683064e+01     22.956785     52.233501  "
      ]
     },
     "execution_count": 112,
     "metadata": {},
     "output_type": "execute_result"
    }
   ],
   "source": [
    "# Split into train/test sets\n",
    "train_size, test_size, random_state = None, 0.33, 10\n",
    "X_train, X_test = train_test_split(data, \n",
    "                                       test_size=test_size, train_size=train_size, \n",
    "                                       random_state=random_state, stratify=slr)\n",
    "\n",
    "# Perform a secondary split if separate validation set required\n",
    "\n",
    "# Split off the target variable now that TTsplit is done\n",
    "y_train, y_test = X_train.pop('slr'), X_test.pop('slr')\n",
    "# y_train = np.round(y_train/fac, 0)*fac\n",
    "\n",
    "print('Train: {}\\nTest: {}\\nValidate: {}'.format(X_train.shape[0], X_test.shape[0], None))\n",
    "\n",
    "train_stats = X_train.describe().T\n",
    "train_stats.head(10)"
   ]
  },
  {
   "cell_type": "markdown",
   "metadata": {},
   "source": [
    "### Normalize/Standardize the data\n",
    "We are using z-score normalization for now but other methods exist<br>\n",
    "This is an absolute must for working with any of the ML models available to us<br>\n",
    "Normalize based on the TRAINING dataset"
   ]
  },
  {
   "cell_type": "code",
   "execution_count": 113,
   "metadata": {},
   "outputs": [],
   "source": [
    "# def zscore(x, mu, sigma):\n",
    "#     '''Standardization'''\n",
    "#     return (x - mu) / sigma"
   ]
  },
  {
   "cell_type": "code",
   "execution_count": 114,
   "metadata": {},
   "outputs": [],
   "source": [
    "# X_train_norm = zscore(X_train, train_stats['mean'], train_stats['std'])\n",
    "# X_test_norm = zscore(X_test, train_stats['mean'], train_stats['std'])\n",
    "\n",
    "# X_train_norm.describe().T.head(10)"
   ]
  },
  {
   "cell_type": "markdown",
   "metadata": {},
   "source": [
    "Print out plots describing the variability in the data (+ before/after normalization?)<br>\n",
    "It would be valuable to do a similar set of/novel comparison plots with the ERA5 vs GFS<br>\n",
    "for each variable/level in the validation script (separate from and following this script)"
   ]
  },
  {
   "cell_type": "code",
   "execution_count": 115,
   "metadata": {},
   "outputs": [],
   "source": [
    "from sklearn.svm import SVR\n",
    "from sklearn.model_selection import GridSearchCV\n",
    "from sklearn.decomposition import PCA\n",
    "from sklearn.preprocessing import StandardScaler, RobustScaler\n",
    "from sklearn.pipeline import Pipeline\n",
    "from sklearn.metrics import mean_absolute_error, mean_squared_error, make_scorer\n",
    "from sklearn.tree import DecisionTreeRegressor\n",
    "from sklearn.neural_network import MLPRegressor as MLP\n",
    "\n",
    "mae = make_scorer(mean_absolute_error, greater_is_better=False)\n",
    "\n",
    "steps = [('scaler', RobustScaler(quantile_range=(25, 75))), ('MLP', MLP())] #('SVR', SVR(kernel='rbf'))]\n",
    "pipeline = Pipeline(steps) # define the pipeline object."
   ]
  },
  {
   "cell_type": "code",
   "execution_count": 124,
   "metadata": {},
   "outputs": [
    {
     "data": {
      "text/plain": [
       "GridSearchCV(cv=5, error_score='raise',\n",
       "       estimator=Pipeline(memory=None,\n",
       "     steps=[('scaler', RobustScaler(copy=True, quantile_range=(25, 75), with_centering=True,\n",
       "       with_scaling=True)), ('MLP', MLPRegressor(activation='relu', alpha=0.0001, batch_size='auto', beta_1=0.9,\n",
       "       beta_2=0.999, early_stopping=False, epsilon=1e-08,\n",
       "       hidden_layer_sizes=(100,), learnin...=True, solver='adam', tol=0.0001, validation_fraction=0.1,\n",
       "       verbose=False, warm_start=False))]),\n",
       "       fit_params=None, iid=True, n_jobs=60,\n",
       "       param_grid={'MLP__alpha': [1.0, 5, 10, 30, 50, 100]},\n",
       "       pre_dispatch='2*n_jobs', refit=True, return_train_score='warn',\n",
       "       scoring=None, verbose=True)"
      ]
     },
     "execution_count": 124,
     "metadata": {},
     "output_type": "execute_result"
    }
   ],
   "source": [
    "import multiprocessing as mp\n",
    "\n",
    "parameteres = {'MLP__alpha':[1.0, 5, 10, 30, 50, 100]} #{'SVR__C':np.arange(1, 10, 1), 'SVR__epsilon':np.arange(0, 5.1, 0.5), 'SVR__gamma':np.arange(0.01, 0.1, 0.02)}\n",
    "grid = GridSearchCV(pipeline, param_grid=parameteres, cv=5, n_jobs=int(mp.cpu_count()*0.75), scoring=None, verbose=True)\n",
    "grid"
   ]
  },
  {
   "cell_type": "code",
   "execution_count": 125,
   "metadata": {},
   "outputs": [
    {
     "name": "stdout",
     "output_type": "stream",
     "text": [
      "Fitting 5 folds for each of 6 candidates, totalling 30 fits\n"
     ]
    },
    {
     "name": "stderr",
     "output_type": "stream",
     "text": [
      "[Parallel(n_jobs=60)]: Done   4 out of  30 | elapsed:   15.2s remaining:  1.6min\n",
      "[Parallel(n_jobs=60)]: Done  30 out of  30 | elapsed:   21.5s finished\n"
     ]
    },
    {
     "data": {
      "text/plain": [
       "GridSearchCV(cv=5, error_score='raise',\n",
       "       estimator=Pipeline(memory=None,\n",
       "     steps=[('scaler', RobustScaler(copy=True, quantile_range=(25, 75), with_centering=True,\n",
       "       with_scaling=True)), ('MLP', MLPRegressor(activation='relu', alpha=0.0001, batch_size='auto', beta_1=0.9,\n",
       "       beta_2=0.999, early_stopping=False, epsilon=1e-08,\n",
       "       hidden_layer_sizes=(100,), learnin...=True, solver='adam', tol=0.0001, validation_fraction=0.1,\n",
       "       verbose=False, warm_start=False))]),\n",
       "       fit_params=None, iid=True, n_jobs=60,\n",
       "       param_grid={'MLP__alpha': [1.0, 5, 10, 30, 50, 100]},\n",
       "       pre_dispatch='2*n_jobs', refit=True, return_train_score='warn',\n",
       "       scoring=None, verbose=True)"
      ]
     },
     "execution_count": 125,
     "metadata": {},
     "output_type": "execute_result"
    }
   ],
   "source": [
    "grid.fit(X_train, y_train)"
   ]
  },
  {
   "cell_type": "code",
   "execution_count": 126,
   "metadata": {},
   "outputs": [
    {
     "data": {
      "text/plain": [
       "(0.30326197884324113, {'MLP__alpha': 100})"
      ]
     },
     "execution_count": 126,
     "metadata": {},
     "output_type": "execute_result"
    }
   ],
   "source": [
    "abs(grid.score(X_test, y_test)), grid.best_params_"
   ]
  },
  {
   "cell_type": "code",
   "execution_count": 127,
   "metadata": {},
   "outputs": [
    {
     "data": {
      "image/png": "[encoded data removed]",
      "text/plain": [
       "<Figure size 864x864 with 1 Axes>"
      ]
     },
     "metadata": {},
     "output_type": "display_data"
    }
   ],
   "source": [
    "plt.figure(facecolor='w', figsize=(12, 12))\n",
    "plt.plot(range(31), range(31), 'k--')\n",
    "plt.scatter(y_test, grid.predict(X_test), color='k', marker='+')\n",
    "plt.xlim([0, 30])\n",
    "plt.ylim([0, 30])\n",
    "plt.grid()"
   ]
  },
  {
   "cell_type": "code",
   "execution_count": null,
   "metadata": {},
   "outputs": [],
   "source": []
  },
  {
   "cell_type": "code",
   "execution_count": null,
   "metadata": {},
   "outputs": [],
   "source": []
  },
  {
   "cell_type": "code",
   "execution_count": null,
   "metadata": {},
   "outputs": [],
   "source": []
  },
  {
   "cell_type": "code",
   "execution_count": null,
   "metadata": {},
   "outputs": [],
   "source": []
  },
  {
   "cell_type": "code",
   "execution_count": null,
   "metadata": {},
   "outputs": [],
   "source": []
  }
 ],
 "metadata": {
  "kernelspec": {
   "display_name": "Python 3",
   "language": "python",
   "name": "python3"
  },
  "language_info": {
   "codemirror_mode": {
    "name": "ipython",
    "version": 3
   },
   "file_extension": ".py",
   "mimetype": "text/x-python",
   "name": "python",
   "nbconvert_exporter": "python",
   "pygments_lexer": "ipython3",
   "version": "3.6.5"
  }
 },
 "nbformat": 4,
 "nbformat_minor": 2
}
