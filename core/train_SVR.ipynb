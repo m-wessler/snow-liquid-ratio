{
 "cells": [
  {
   "cell_type": "code",
   "execution_count": 268,
   "metadata": {},
   "outputs": [],
   "source": [
    "import numpy as np\n",
    "import pandas as pd\n",
    "import seaborn as sns\n",
    "import matplotlib.pyplot as plt\n",
    "\n",
    "from glob import glob\n",
    "from sklearn.model_selection import train_test_split"
   ]
  },
  {
   "cell_type": "code",
   "execution_count": 269,
   "metadata": {},
   "outputs": [],
   "source": [
    "obdir = '/uufs/chpc.utah.edu/common/home/steenburgh-group10/mewessler/observations/'"
   ]
  },
  {
   "cell_type": "markdown",
   "metadata": {},
   "source": [
    "### Choose which sites to train the SVR model on\n",
    "Can be all available, or a defined list 'site_list' passed, or single station as list e.g. ['CLN']<br>\n",
    "Use all with an exclude list is another alternative"
   ]
  },
  {
   "cell_type": "code",
   "execution_count": 295,
   "metadata": {},
   "outputs": [],
   "source": [
    "flist = glob(obdir + 'combined/*.pd')\n",
    "\n",
    "# This can be a manual site list if desired\n",
    "site_list = np.unique([f.split('/')[-1].split('_')[0] for f in flist])\n",
    "site_list = ['CLN']"
   ]
  },
  {
   "cell_type": "markdown",
   "metadata": {},
   "source": [
    "### For each site, choose which files to use\n",
    "For now, we will only use one set of observations from each site so samples remain independent<br>\n",
    "We can change this behavior down the road to use all or some intervals<br>\n",
    "Favor 'short' for the shortest interval available e.g. 6h, 'long' for longest interval e.g. 24h"
   ]
  },
  {
   "cell_type": "code",
   "execution_count": 296,
   "metadata": {},
   "outputs": [
    {
     "data": {
      "text/plain": [
       "['/uufs/chpc.utah.edu/common/home/steenburgh-group10/mewessler/observations/combined/CLN_1999_2019.12h.pd']"
      ]
     },
     "execution_count": 296,
     "metadata": {},
     "output_type": "execute_result"
    }
   ],
   "source": [
    "favor = 'short' #'long'\n",
    "\n",
    "flist = []\n",
    "for site in site_list:\n",
    "    \n",
    "    site_files = glob(obdir + 'combined/%s*.pd'%site)\n",
    "    \n",
    "    if len(site_files) > 1:\n",
    "        if favor == 'short':\n",
    "            flist.append(\n",
    "                site_files[np.argmin([int(f.split('.')[-2].replace('h', '')) \n",
    "                    for f in site_files])])\n",
    "            \n",
    "        elif favor == 'long':\n",
    "            np.argmax([int(f.split('.')[-2].replace('h', '')) for f in site_files])\n",
    "    \n",
    "    else:\n",
    "        flist.append(site_files[0])\n",
    "        \n",
    "flist"
   ]
  },
  {
   "cell_type": "markdown",
   "metadata": {},
   "source": [
    "### Establish which model variables and levels to use\n",
    "This is entirely based on the model that the SVR will be applied to - maximize the predictor set<br>\n",
    "Helpful to open a sample GFS/NAM/HRRR grid or profile to derive the variable list from"
   ]
  },
  {
   "cell_type": "code",
   "execution_count": 297,
   "metadata": {},
   "outputs": [
    {
     "data": {
      "text/plain": [
       "array(['VO1000', 'VO400', 'VO450', 'VO500', 'VO550', 'VO600', 'VO650',\n",
       "       'VO700', 'VO750', 'VO800', 'VO850', 'VO900', 'VO925', 'VO950',\n",
       "       'VO975', 'DIR1000', 'DIR400', 'DIR450', 'DIR500', 'DIR550',\n",
       "       'DIR600', 'DIR650', 'DIR700', 'DIR750', 'DIR800', 'DIR850',\n",
       "       'DIR900', 'DIR925', 'DIR950', 'DIR975', 'RH1000', 'RH400', 'RH450',\n",
       "       'RH500', 'RH550', 'RH600', 'RH650', 'RH700', 'RH750', 'RH800',\n",
       "       'RH850', 'RH900', 'RH925', 'RH950', 'RH975', 'SP', 'SPD1000',\n",
       "       'SPD400', 'SPD450', 'SPD500', 'SPD550', 'SPD600', 'SPD650',\n",
       "       'SPD700', 'SPD750', 'SPD800', 'SPD850', 'SPD900', 'SPD925',\n",
       "       'SPD950', 'SPD975', 'T1000', 'T400', 'T450', 'T500', 'T550',\n",
       "       'T600', 'T650', 'T700', 'T750', 'T800', 'T850', 'T900', 'T925',\n",
       "       'T950', 'T975', 'TSFC', 'U1000', 'U400', 'U450', 'U500', 'U550',\n",
       "       'U600', 'U650', 'U700', 'U750', 'U800', 'U850', 'U900', 'U925',\n",
       "       'U950', 'U975', 'V1000', 'V400', 'V450', 'V500', 'V550', 'V600',\n",
       "       'V650', 'V700', 'V750', 'V800', 'V850', 'V900', 'V925', 'V950',\n",
       "       'V975', 'W1000', 'W400', 'W450', 'W500', 'W550', 'W600', 'W650',\n",
       "       'W700', 'W750', 'W800', 'W850', 'W900', 'W925', 'W950', 'W975'],\n",
       "      dtype='<U7')"
      ]
     },
     "execution_count": 297,
     "metadata": {},
     "output_type": "execute_result"
    }
   ],
   "source": [
    "# For now we can reuse the fixed list from the proof-of-concept script\n",
    "# But this needs to be made flexible\n",
    "gfs_keys = [\n",
    "       'VO1000', 'VO400', 'VO450', 'VO500', 'VO550', 'VO600', 'VO650',\n",
    "       'VO700', 'VO750', 'VO800', 'VO850', 'VO900', 'VO925', 'VO950',\n",
    "       'VO975', 'CAPE', 'DIR1000', 'DIR400', 'DIR450', 'DIR500', 'DIR550',\n",
    "       'DIR600', 'DIR650', 'DIR700', 'DIR750', 'DIR800', 'DIR850',\n",
    "       'DIR900', 'DIR925', 'DIR950', 'DIR975', 'Z1000', 'Z400', 'Z450',\n",
    "       'Z500', 'Z550', 'Z600', 'Z650', 'Z700', 'Z750', 'Z800', 'Z850',\n",
    "       'Z900', 'Z925', 'Z950', 'Z975', 'RH1000', 'RH400', 'RH450',\n",
    "       'RH500', 'RH550', 'RH600', 'RH650', 'RH700', 'RH750', 'RH800',\n",
    "       'RH850', 'RH900', 'RH925', 'RH950', 'RH975', 'SP', 'SPD1000',\n",
    "       'SPD400', 'SPD450', 'SPD500', 'SPD550', 'SPD600', 'SPD650',\n",
    "       'SPD700', 'SPD750', 'SPD800', 'SPD850', 'SPD900', 'SPD925',\n",
    "       'SPD950', 'SPD975', 'T1000', '2T', 'T400', 'T450', 'T500', 'T550',\n",
    "       'T600', 'T650', 'T700', 'T750', 'T800', 'T850', 'T900', 'T925',\n",
    "       'T950', 'T975', 'TSFC', 'U1000', 'U400', 'U450', 'U500', 'U550',\n",
    "       'U600', 'U650', 'U700', 'U750', 'U800', 'U850', 'U900', 'U925',\n",
    "       'U950', 'U975', 'V1000', 'V400', 'V450', 'V500', 'V550', 'V600',\n",
    "       'V650', 'V700', 'V750', 'V800', 'V850', 'V900', 'V925', 'V950',\n",
    "       'V975', 'W1000', 'W400', 'W450', 'W500', 'W550', 'W600', 'W650',\n",
    "       'W700', 'W750', 'W800', 'W850', 'W900', 'W925', 'W950', 'W975']\n",
    "\n",
    "gfs_levels = [400, 450, 500,550,600, 650, 700, 750, \n",
    "              800, 850, 900, 925,950,975, 1000]\n",
    "\n",
    "exclude_keys = ['2T', 'CAPE', 'Z']\n",
    "\n",
    "exclude_keys = np.array([[k if ex in k[:len(ex)] else np.nan \n",
    "                          for ex in exclude_keys] for k in gfs_keys])\n",
    "exclude_keys = exclude_keys.flatten()\n",
    "exclude_keys = exclude_keys[exclude_keys != 'nan']\n",
    "\n",
    "gfs_keys = np.array([k for k in gfs_keys if k not in exclude_keys])\n",
    "gfs_keys"
   ]
  },
  {
   "cell_type": "markdown",
   "metadata": {},
   "source": [
    "### Import the compiled data\n",
    "Prune unused variables on import based on the list above<br>\n",
    "Sub-surface levels have already been dealt with in the compilation script - modify methods there<br>\n",
    "Note that 12 vs 24 hour intervals have also been dealt with above, if both desired... write that in"
   ]
  },
  {
   "cell_type": "code",
   "execution_count": 560,
   "metadata": {},
   "outputs": [
    {
     "data": {
      "text/html": [
       "<div>\n",
       "<style scoped>\n",
       "    .dataframe tbody tr th:only-of-type {\n",
       "        vertical-align: middle;\n",
       "    }\n",
       "\n",
       "    .dataframe tbody tr th {\n",
       "        vertical-align: top;\n",
       "    }\n",
       "\n",
       "    .dataframe thead th {\n",
       "        text-align: right;\n",
       "    }\n",
       "</style>\n",
       "<table border=\"1\" class=\"dataframe\">\n",
       "  <thead>\n",
       "    <tr style=\"text-align: right;\">\n",
       "      <th></th>\n",
       "      <th>slr</th>\n",
       "      <th>swe_mm</th>\n",
       "      <th>day_of_year</th>\n",
       "      <th>T400</th>\n",
       "      <th>U400</th>\n",
       "      <th>V400</th>\n",
       "      <th>VO400</th>\n",
       "      <th>W400</th>\n",
       "      <th>SPD400</th>\n",
       "      <th>T450</th>\n",
       "      <th>...</th>\n",
       "      <th>VO750</th>\n",
       "      <th>W750</th>\n",
       "      <th>SPD750</th>\n",
       "      <th>T800</th>\n",
       "      <th>U800</th>\n",
       "      <th>V800</th>\n",
       "      <th>VO800</th>\n",
       "      <th>W800</th>\n",
       "      <th>SPD800</th>\n",
       "      <th>SP</th>\n",
       "    </tr>\n",
       "  </thead>\n",
       "  <tbody>\n",
       "    <tr>\n",
       "      <th>0</th>\n",
       "      <td>9.523809</td>\n",
       "      <td>10.668</td>\n",
       "      <td>312</td>\n",
       "      <td>245.751221</td>\n",
       "      <td>14.262792</td>\n",
       "      <td>18.845314</td>\n",
       "      <td>-0.000007</td>\n",
       "      <td>-0.282659</td>\n",
       "      <td>23.807833</td>\n",
       "      <td>251.453506</td>\n",
       "      <td>...</td>\n",
       "      <td>-0.000228</td>\n",
       "      <td>0.009979</td>\n",
       "      <td>11.576412</td>\n",
       "      <td>286.184265</td>\n",
       "      <td>-0.407485</td>\n",
       "      <td>5.358132</td>\n",
       "      <td>-0.000366</td>\n",
       "      <td>0.256965</td>\n",
       "      <td>5.541474</td>\n",
       "      <td>80253.921875</td>\n",
       "    </tr>\n",
       "    <tr>\n",
       "      <th>1</th>\n",
       "      <td>11.320755</td>\n",
       "      <td>13.462</td>\n",
       "      <td>321</td>\n",
       "      <td>245.860687</td>\n",
       "      <td>13.253074</td>\n",
       "      <td>27.635181</td>\n",
       "      <td>-0.000044</td>\n",
       "      <td>-0.518515</td>\n",
       "      <td>30.789095</td>\n",
       "      <td>251.604340</td>\n",
       "      <td>...</td>\n",
       "      <td>-0.000283</td>\n",
       "      <td>-0.137410</td>\n",
       "      <td>11.845341</td>\n",
       "      <td>286.156799</td>\n",
       "      <td>-0.658640</td>\n",
       "      <td>4.628677</td>\n",
       "      <td>-0.000338</td>\n",
       "      <td>0.191280</td>\n",
       "      <td>5.377541</td>\n",
       "      <td>79608.828125</td>\n",
       "    </tr>\n",
       "    <tr>\n",
       "      <th>2</th>\n",
       "      <td>8.695652</td>\n",
       "      <td>5.842</td>\n",
       "      <td>324</td>\n",
       "      <td>247.194550</td>\n",
       "      <td>23.618073</td>\n",
       "      <td>13.456594</td>\n",
       "      <td>-0.000019</td>\n",
       "      <td>0.183329</td>\n",
       "      <td>27.394947</td>\n",
       "      <td>253.433563</td>\n",
       "      <td>...</td>\n",
       "      <td>-0.000208</td>\n",
       "      <td>-0.100848</td>\n",
       "      <td>10.392151</td>\n",
       "      <td>281.588654</td>\n",
       "      <td>-1.551895</td>\n",
       "      <td>3.541852</td>\n",
       "      <td>-0.000251</td>\n",
       "      <td>0.402385</td>\n",
       "      <td>3.930658</td>\n",
       "      <td>80416.054688</td>\n",
       "    </tr>\n",
       "    <tr>\n",
       "      <th>3</th>\n",
       "      <td>18.181818</td>\n",
       "      <td>2.794</td>\n",
       "      <td>324</td>\n",
       "      <td>243.966476</td>\n",
       "      <td>26.156818</td>\n",
       "      <td>9.112763</td>\n",
       "      <td>0.000035</td>\n",
       "      <td>-0.103810</td>\n",
       "      <td>28.957607</td>\n",
       "      <td>249.460709</td>\n",
       "      <td>...</td>\n",
       "      <td>-0.000032</td>\n",
       "      <td>-0.405258</td>\n",
       "      <td>5.438491</td>\n",
       "      <td>277.557007</td>\n",
       "      <td>0.522875</td>\n",
       "      <td>1.790523</td>\n",
       "      <td>-0.000107</td>\n",
       "      <td>0.006187</td>\n",
       "      <td>2.677736</td>\n",
       "      <td>80313.203125</td>\n",
       "    </tr>\n",
       "    <tr>\n",
       "      <th>4</th>\n",
       "      <td>16.071428</td>\n",
       "      <td>7.112</td>\n",
       "      <td>325</td>\n",
       "      <td>242.414658</td>\n",
       "      <td>25.918653</td>\n",
       "      <td>-0.349203</td>\n",
       "      <td>0.000037</td>\n",
       "      <td>-0.012761</td>\n",
       "      <td>26.516172</td>\n",
       "      <td>245.851898</td>\n",
       "      <td>...</td>\n",
       "      <td>-0.000012</td>\n",
       "      <td>0.106172</td>\n",
       "      <td>2.433492</td>\n",
       "      <td>275.800568</td>\n",
       "      <td>-0.293900</td>\n",
       "      <td>-0.477268</td>\n",
       "      <td>0.000029</td>\n",
       "      <td>0.294072</td>\n",
       "      <td>1.532066</td>\n",
       "      <td>80073.867188</td>\n",
       "    </tr>\n",
       "  </tbody>\n",
       "</table>\n",
       "<p>5 rows × 58 columns</p>\n",
       "</div>"
      ],
      "text/plain": [
       "         slr  swe_mm  day_of_year        T400       U400       V400     VO400  \\\n",
       "0   9.523809  10.668          312  245.751221  14.262792  18.845314 -0.000007   \n",
       "1  11.320755  13.462          321  245.860687  13.253074  27.635181 -0.000044   \n",
       "2   8.695652   5.842          324  247.194550  23.618073  13.456594 -0.000019   \n",
       "3  18.181818   2.794          324  243.966476  26.156818   9.112763  0.000035   \n",
       "4  16.071428   7.112          325  242.414658  25.918653  -0.349203  0.000037   \n",
       "\n",
       "       W400     SPD400        T450      ...          VO750      W750  \\\n",
       "0 -0.282659  23.807833  251.453506      ...      -0.000228  0.009979   \n",
       "1 -0.518515  30.789095  251.604340      ...      -0.000283 -0.137410   \n",
       "2  0.183329  27.394947  253.433563      ...      -0.000208 -0.100848   \n",
       "3 -0.103810  28.957607  249.460709      ...      -0.000032 -0.405258   \n",
       "4 -0.012761  26.516172  245.851898      ...      -0.000012  0.106172   \n",
       "\n",
       "      SPD750        T800      U800      V800     VO800      W800    SPD800  \\\n",
       "0  11.576412  286.184265 -0.407485  5.358132 -0.000366  0.256965  5.541474   \n",
       "1  11.845341  286.156799 -0.658640  4.628677 -0.000338  0.191280  5.377541   \n",
       "2  10.392151  281.588654 -1.551895  3.541852 -0.000251  0.402385  3.930658   \n",
       "3   5.438491  277.557007  0.522875  1.790523 -0.000107  0.006187  2.677736   \n",
       "4   2.433492  275.800568 -0.293900 -0.477268  0.000029  0.294072  1.532066   \n",
       "\n",
       "             SP  \n",
       "0  80253.921875  \n",
       "1  79608.828125  \n",
       "2  80416.054688  \n",
       "3  80313.203125  \n",
       "4  80073.867188  \n",
       "\n",
       "[5 rows x 58 columns]"
      ]
     },
     "execution_count": 560,
     "metadata": {},
     "output_type": "execute_result"
    }
   ],
   "source": [
    "use_var_type = ['mean']#, 'max', 'min']\n",
    "\n",
    "data = []\n",
    "for f in flist:\n",
    "    \n",
    "    site = f.split('/')[-1].split('_')[0]\n",
    "    interval = int(f.split('/')[-1].split('.')[-2].replace('h', ''))\n",
    "    \n",
    "    df = pd.read_pickle(f)\n",
    "\n",
    "    keys = ['slr%d'%interval, 'swe%d_mm'%interval]\n",
    "    \n",
    "    keys.extend(np.hstack([[k for k in df.keys() \n",
    "                  if ((vt in k) & (k.split('_')[0] in gfs_keys))] \n",
    "                 for vt in use_var_type]))\n",
    "\n",
    "    df = df.loc[:, keys].rename(columns={[k for k in keys if 'swe' in k][0]:'swe_mm'})\n",
    "    df = df.rename(columns={[k for k in keys if 'slr' in k][0]:'slr'})\n",
    "    \n",
    "    # df.insert(0, 'site', np.full(df.index.size, fill_value=site, dtype='U10'))\n",
    "    doy = [int(pd.to_datetime(d).strftime('%j')) for d in df.index]\n",
    "    df.insert(2, 'day_of_year', doy)\n",
    "    \n",
    "    data.append(df.reset_index().drop(columns='time'))\n",
    "\n",
    "data = pd.concat(data, sort=False)\n",
    "\n",
    "# Treat the mean value as the instantaneous value for later applications,\n",
    "# we can change this behavior later on if desired. \n",
    "# An alternate method would be to keep the 'mean' tag through training \n",
    "# and choose behavior upon application\n",
    "data = data.rename(columns={k:k.replace('_mean', '') for k in data.keys()})\n",
    "\n",
    "data.head()"
   ]
  },
  {
   "cell_type": "markdown",
   "metadata": {},
   "source": [
    "<hr><hr>"
   ]
  },
  {
   "cell_type": "markdown",
   "metadata": {},
   "source": [
    "### Investigate basic bulk statistics and linear correlations\n",
    "Quanitfy how certain variables are related and produce plots to visualize this<br>"
   ]
  },
  {
   "cell_type": "markdown",
   "metadata": {},
   "source": [
    "#### *Removed: Normalize/Standardize\n",
    "Moved down to where datasets are split. If need be we can normalize for the plots below here too..."
   ]
  },
  {
   "cell_type": "markdown",
   "metadata": {},
   "source": [
    "#### Pair Plots"
   ]
  },
  {
   "cell_type": "code",
   "execution_count": null,
   "metadata": {},
   "outputs": [],
   "source": []
  },
  {
   "cell_type": "markdown",
   "metadata": {},
   "source": [
    "#### Correlation Matrix, R2 Matrix"
   ]
  },
  {
   "cell_type": "code",
   "execution_count": null,
   "metadata": {},
   "outputs": [],
   "source": []
  },
  {
   "cell_type": "markdown",
   "metadata": {},
   "source": [
    "#### Linear Correlation Verical Plots, R2 Vertical Plots"
   ]
  },
  {
   "cell_type": "code",
   "execution_count": null,
   "metadata": {},
   "outputs": [],
   "source": []
  },
  {
   "cell_type": "markdown",
   "metadata": {},
   "source": [
    "#### Identify autocorrelated and other dependent predictors\n",
    "Mask these if desired"
   ]
  },
  {
   "cell_type": "code",
   "execution_count": null,
   "metadata": {},
   "outputs": [],
   "source": []
  },
  {
   "cell_type": "markdown",
   "metadata": {},
   "source": [
    "<hr><hr>"
   ]
  },
  {
   "cell_type": "markdown",
   "metadata": {},
   "source": [
    "### Split Train/Test/Validate Sets\n",
    "If we want to expand the hyperparameter tuning, we can test for sensitivity to random sample<br>\n",
    "by looping from bottom of code block back to here<br>\n",
    "*INVESTIGATE: Behavior of random_state in TTS"
   ]
  },
  {
   "cell_type": "code",
   "execution_count": 561,
   "metadata": {},
   "outputs": [
    {
     "name": "stdout",
     "output_type": "stream",
     "text": [
      "Train: 1165\n",
      "Test: 500\n",
      "Validate: None\n"
     ]
    },
    {
     "data": {
      "text/html": [
       "<div>\n",
       "<style scoped>\n",
       "    .dataframe tbody tr th:only-of-type {\n",
       "        vertical-align: middle;\n",
       "    }\n",
       "\n",
       "    .dataframe tbody tr th {\n",
       "        vertical-align: top;\n",
       "    }\n",
       "\n",
       "    .dataframe thead th {\n",
       "        text-align: right;\n",
       "    }\n",
       "</style>\n",
       "<table border=\"1\" class=\"dataframe\">\n",
       "  <thead>\n",
       "    <tr style=\"text-align: right;\">\n",
       "      <th></th>\n",
       "      <th>count</th>\n",
       "      <th>mean</th>\n",
       "      <th>std</th>\n",
       "      <th>min</th>\n",
       "      <th>25%</th>\n",
       "      <th>50%</th>\n",
       "      <th>75%</th>\n",
       "      <th>max</th>\n",
       "    </tr>\n",
       "  </thead>\n",
       "  <tbody>\n",
       "    <tr>\n",
       "      <th>swe_mm</th>\n",
       "      <td>1165.0</td>\n",
       "      <td>10.846999</td>\n",
       "      <td>8.069140</td>\n",
       "      <td>1.524000</td>\n",
       "      <td>4.826000</td>\n",
       "      <td>8.636000</td>\n",
       "      <td>14.224000</td>\n",
       "      <td>57.911999</td>\n",
       "    </tr>\n",
       "    <tr>\n",
       "      <th>day_of_year</th>\n",
       "      <td>1165.0</td>\n",
       "      <td>153.682403</td>\n",
       "      <td>133.811783</td>\n",
       "      <td>1.000000</td>\n",
       "      <td>47.000000</td>\n",
       "      <td>88.000000</td>\n",
       "      <td>317.000000</td>\n",
       "      <td>365.000000</td>\n",
       "    </tr>\n",
       "    <tr>\n",
       "      <th>T400</th>\n",
       "      <td>1165.0</td>\n",
       "      <td>239.926178</td>\n",
       "      <td>4.901735</td>\n",
       "      <td>224.297226</td>\n",
       "      <td>236.586884</td>\n",
       "      <td>240.205078</td>\n",
       "      <td>243.650543</td>\n",
       "      <td>253.353546</td>\n",
       "    </tr>\n",
       "    <tr>\n",
       "      <th>U400</th>\n",
       "      <td>1165.0</td>\n",
       "      <td>19.126438</td>\n",
       "      <td>11.264865</td>\n",
       "      <td>-12.959023</td>\n",
       "      <td>10.939073</td>\n",
       "      <td>19.087900</td>\n",
       "      <td>26.725712</td>\n",
       "      <td>59.784084</td>\n",
       "    </tr>\n",
       "    <tr>\n",
       "      <th>V400</th>\n",
       "      <td>1165.0</td>\n",
       "      <td>3.652757</td>\n",
       "      <td>14.885930</td>\n",
       "      <td>-54.728245</td>\n",
       "      <td>-5.439290</td>\n",
       "      <td>5.109018</td>\n",
       "      <td>13.668539</td>\n",
       "      <td>45.693340</td>\n",
       "    </tr>\n",
       "    <tr>\n",
       "      <th>VO400</th>\n",
       "      <td>1165.0</td>\n",
       "      <td>0.000012</td>\n",
       "      <td>0.000053</td>\n",
       "      <td>-0.000108</td>\n",
       "      <td>-0.000025</td>\n",
       "      <td>0.000001</td>\n",
       "      <td>0.000039</td>\n",
       "      <td>0.000263</td>\n",
       "    </tr>\n",
       "    <tr>\n",
       "      <th>W400</th>\n",
       "      <td>1165.0</td>\n",
       "      <td>-0.087951</td>\n",
       "      <td>0.294399</td>\n",
       "      <td>-1.324921</td>\n",
       "      <td>-0.227944</td>\n",
       "      <td>-0.035071</td>\n",
       "      <td>0.096884</td>\n",
       "      <td>0.873093</td>\n",
       "    </tr>\n",
       "    <tr>\n",
       "      <th>SPD400</th>\n",
       "      <td>1165.0</td>\n",
       "      <td>25.360518</td>\n",
       "      <td>10.352661</td>\n",
       "      <td>2.404542</td>\n",
       "      <td>17.645409</td>\n",
       "      <td>25.459175</td>\n",
       "      <td>32.645451</td>\n",
       "      <td>67.926323</td>\n",
       "    </tr>\n",
       "    <tr>\n",
       "      <th>T450</th>\n",
       "      <td>1165.0</td>\n",
       "      <td>246.025269</td>\n",
       "      <td>4.947752</td>\n",
       "      <td>230.203537</td>\n",
       "      <td>242.766846</td>\n",
       "      <td>246.423233</td>\n",
       "      <td>249.657486</td>\n",
       "      <td>258.938995</td>\n",
       "    </tr>\n",
       "    <tr>\n",
       "      <th>U450</th>\n",
       "      <td>1165.0</td>\n",
       "      <td>16.781029</td>\n",
       "      <td>9.587563</td>\n",
       "      <td>-10.083364</td>\n",
       "      <td>9.851603</td>\n",
       "      <td>16.842905</td>\n",
       "      <td>23.164368</td>\n",
       "      <td>52.233501</td>\n",
       "    </tr>\n",
       "  </tbody>\n",
       "</table>\n",
       "</div>"
      ],
      "text/plain": [
       "              count        mean         std         min         25%  \\\n",
       "swe_mm       1165.0   10.846999    8.069140    1.524000    4.826000   \n",
       "day_of_year  1165.0  153.682403  133.811783    1.000000   47.000000   \n",
       "T400         1165.0  239.926178    4.901735  224.297226  236.586884   \n",
       "U400         1165.0   19.126438   11.264865  -12.959023   10.939073   \n",
       "V400         1165.0    3.652757   14.885930  -54.728245   -5.439290   \n",
       "VO400        1165.0    0.000012    0.000053   -0.000108   -0.000025   \n",
       "W400         1165.0   -0.087951    0.294399   -1.324921   -0.227944   \n",
       "SPD400       1165.0   25.360518   10.352661    2.404542   17.645409   \n",
       "T450         1165.0  246.025269    4.947752  230.203537  242.766846   \n",
       "U450         1165.0   16.781029    9.587563  -10.083364    9.851603   \n",
       "\n",
       "                    50%         75%         max  \n",
       "swe_mm         8.636000   14.224000   57.911999  \n",
       "day_of_year   88.000000  317.000000  365.000000  \n",
       "T400         240.205078  243.650543  253.353546  \n",
       "U400          19.087900   26.725712   59.784084  \n",
       "V400           5.109018   13.668539   45.693340  \n",
       "VO400          0.000001    0.000039    0.000263  \n",
       "W400          -0.035071    0.096884    0.873093  \n",
       "SPD400        25.459175   32.645451   67.926323  \n",
       "T450         246.423233  249.657486  258.938995  \n",
       "U450          16.842905   23.164368   52.233501  "
      ]
     },
     "execution_count": 561,
     "metadata": {},
     "output_type": "execute_result"
    }
   ],
   "source": [
    "# Split into train/test sets\n",
    "train_size, test_size = 0.70, 0.30\n",
    "X_train, X_test = train_test_split(data, test_size=test_size, train_size=train_size, random_state=None)\n",
    "\n",
    "# Perform a secondary split if separate validation set required\n",
    "\n",
    "# Split off the target variable now that TTsplit is done\n",
    "y_train, y_test = X_train.pop('slr'), X_test.pop('slr')\n",
    "\n",
    "print('Train: {}\\nTest: {}\\nValidate: {}'.format(X_train.shape[0], X_test.shape[0], None))\n",
    "\n",
    "train_stats = X_train.describe().T\n",
    "train_stats.head(10)"
   ]
  },
  {
   "cell_type": "markdown",
   "metadata": {},
   "source": [
    "### Normalize/Standardize the data\n",
    "We are using z-score normalization for now but other methods exist<br>\n",
    "This is an absolute must for working with any of the ML models available to us<br>\n",
    "Normalize based on the TRAINING dataset"
   ]
  },
  {
   "cell_type": "code",
   "execution_count": 562,
   "metadata": {},
   "outputs": [],
   "source": [
    "def zscore(x, mu, sigma):\n",
    "    '''Standardization'''\n",
    "    return (x - mu) / sigma"
   ]
  },
  {
   "cell_type": "code",
   "execution_count": 563,
   "metadata": {},
   "outputs": [
    {
     "data": {
      "text/html": [
       "<div>\n",
       "<style scoped>\n",
       "    .dataframe tbody tr th:only-of-type {\n",
       "        vertical-align: middle;\n",
       "    }\n",
       "\n",
       "    .dataframe tbody tr th {\n",
       "        vertical-align: top;\n",
       "    }\n",
       "\n",
       "    .dataframe thead th {\n",
       "        text-align: right;\n",
       "    }\n",
       "</style>\n",
       "<table border=\"1\" class=\"dataframe\">\n",
       "  <thead>\n",
       "    <tr style=\"text-align: right;\">\n",
       "      <th></th>\n",
       "      <th>count</th>\n",
       "      <th>mean</th>\n",
       "      <th>std</th>\n",
       "      <th>min</th>\n",
       "      <th>25%</th>\n",
       "      <th>50%</th>\n",
       "      <th>75%</th>\n",
       "      <th>max</th>\n",
       "    </tr>\n",
       "  </thead>\n",
       "  <tbody>\n",
       "    <tr>\n",
       "      <th>swe_mm</th>\n",
       "      <td>1165.0</td>\n",
       "      <td>7.674418e-09</td>\n",
       "      <td>1.000000</td>\n",
       "      <td>-1.155389</td>\n",
       "      <td>-0.746176</td>\n",
       "      <td>-0.274007</td>\n",
       "      <td>0.418508</td>\n",
       "      <td>5.832715</td>\n",
       "    </tr>\n",
       "    <tr>\n",
       "      <th>day_of_year</th>\n",
       "      <td>1165.0</td>\n",
       "      <td>-1.219816e-17</td>\n",
       "      <td>1.000000</td>\n",
       "      <td>-1.141024</td>\n",
       "      <td>-0.797257</td>\n",
       "      <td>-0.490857</td>\n",
       "      <td>1.220502</td>\n",
       "      <td>1.579215</td>\n",
       "    </tr>\n",
       "    <tr>\n",
       "      <th>T400</th>\n",
       "      <td>1165.0</td>\n",
       "      <td>-1.450393e-05</td>\n",
       "      <td>1.000000</td>\n",
       "      <td>-3.188453</td>\n",
       "      <td>-0.681247</td>\n",
       "      <td>0.056898</td>\n",
       "      <td>0.759806</td>\n",
       "      <td>2.739309</td>\n",
       "    </tr>\n",
       "    <tr>\n",
       "      <th>U400</th>\n",
       "      <td>1165.0</td>\n",
       "      <td>-1.845940e-06</td>\n",
       "      <td>1.000000</td>\n",
       "      <td>-2.848277</td>\n",
       "      <td>-0.726805</td>\n",
       "      <td>-0.003421</td>\n",
       "      <td>0.674600</td>\n",
       "      <td>3.609244</td>\n",
       "    </tr>\n",
       "    <tr>\n",
       "      <th>V400</th>\n",
       "      <td>1165.0</td>\n",
       "      <td>1.409023e-07</td>\n",
       "      <td>0.999999</td>\n",
       "      <td>-3.921891</td>\n",
       "      <td>-0.610781</td>\n",
       "      <td>0.097828</td>\n",
       "      <td>0.672836</td>\n",
       "      <td>2.824183</td>\n",
       "    </tr>\n",
       "    <tr>\n",
       "      <th>VO400</th>\n",
       "      <td>1165.0</td>\n",
       "      <td>1.171628e-08</td>\n",
       "      <td>1.000000</td>\n",
       "      <td>-2.290911</td>\n",
       "      <td>-0.703757</td>\n",
       "      <td>-0.206529</td>\n",
       "      <td>0.503122</td>\n",
       "      <td>4.757345</td>\n",
       "    </tr>\n",
       "    <tr>\n",
       "      <th>W400</th>\n",
       "      <td>1165.0</td>\n",
       "      <td>2.285953e-07</td>\n",
       "      <td>1.000000</td>\n",
       "      <td>-4.201686</td>\n",
       "      <td>-0.475524</td>\n",
       "      <td>0.179619</td>\n",
       "      <td>0.627840</td>\n",
       "      <td>3.264433</td>\n",
       "    </tr>\n",
       "    <tr>\n",
       "      <th>SPD400</th>\n",
       "      <td>1165.0</td>\n",
       "      <td>1.780759e-06</td>\n",
       "      <td>1.000000</td>\n",
       "      <td>-2.217398</td>\n",
       "      <td>-0.745230</td>\n",
       "      <td>0.009530</td>\n",
       "      <td>0.703677</td>\n",
       "      <td>4.111581</td>\n",
       "    </tr>\n",
       "    <tr>\n",
       "      <th>T450</th>\n",
       "      <td>1165.0</td>\n",
       "      <td>-4.394883e-06</td>\n",
       "      <td>1.000000</td>\n",
       "      <td>-3.197761</td>\n",
       "      <td>-0.658566</td>\n",
       "      <td>0.080433</td>\n",
       "      <td>0.734115</td>\n",
       "      <td>2.610019</td>\n",
       "    </tr>\n",
       "    <tr>\n",
       "      <th>U450</th>\n",
       "      <td>1165.0</td>\n",
       "      <td>1.740609e-06</td>\n",
       "      <td>1.000000</td>\n",
       "      <td>-2.802005</td>\n",
       "      <td>-0.722752</td>\n",
       "      <td>0.006454</td>\n",
       "      <td>0.665794</td>\n",
       "      <td>3.697757</td>\n",
       "    </tr>\n",
       "  </tbody>\n",
       "</table>\n",
       "</div>"
      ],
      "text/plain": [
       "              count          mean       std       min       25%       50%  \\\n",
       "swe_mm       1165.0  7.674418e-09  1.000000 -1.155389 -0.746176 -0.274007   \n",
       "day_of_year  1165.0 -1.219816e-17  1.000000 -1.141024 -0.797257 -0.490857   \n",
       "T400         1165.0 -1.450393e-05  1.000000 -3.188453 -0.681247  0.056898   \n",
       "U400         1165.0 -1.845940e-06  1.000000 -2.848277 -0.726805 -0.003421   \n",
       "V400         1165.0  1.409023e-07  0.999999 -3.921891 -0.610781  0.097828   \n",
       "VO400        1165.0  1.171628e-08  1.000000 -2.290911 -0.703757 -0.206529   \n",
       "W400         1165.0  2.285953e-07  1.000000 -4.201686 -0.475524  0.179619   \n",
       "SPD400       1165.0  1.780759e-06  1.000000 -2.217398 -0.745230  0.009530   \n",
       "T450         1165.0 -4.394883e-06  1.000000 -3.197761 -0.658566  0.080433   \n",
       "U450         1165.0  1.740609e-06  1.000000 -2.802005 -0.722752  0.006454   \n",
       "\n",
       "                  75%       max  \n",
       "swe_mm       0.418508  5.832715  \n",
       "day_of_year  1.220502  1.579215  \n",
       "T400         0.759806  2.739309  \n",
       "U400         0.674600  3.609244  \n",
       "V400         0.672836  2.824183  \n",
       "VO400        0.503122  4.757345  \n",
       "W400         0.627840  3.264433  \n",
       "SPD400       0.703677  4.111581  \n",
       "T450         0.734115  2.610019  \n",
       "U450         0.665794  3.697757  "
      ]
     },
     "execution_count": 563,
     "metadata": {},
     "output_type": "execute_result"
    }
   ],
   "source": [
    "X_train_norm = zscore(X_train, train_stats['mean'], train_stats['std'])\n",
    "X_test_norm = zscore(X_test, train_stats['mean'], train_stats['std'])\n",
    "\n",
    "X_train_norm.describe().T.head(10)"
   ]
  },
  {
   "cell_type": "markdown",
   "metadata": {},
   "source": [
    "Print out plots describing the variability in the data (+ before/after normalization?)<br>\n",
    "It would be valuable to do a similar set of/novel comparison plots with the ERA5 vs GFS<br>\n",
    "for each variable/level in the validation script (separate from and following this script)"
   ]
  },
  {
   "cell_type": "code",
   "execution_count": null,
   "metadata": {},
   "outputs": [],
   "source": []
  },
  {
   "cell_type": "markdown",
   "metadata": {},
   "source": [
    "### EOF/PCA Reduction of highly dimensional data\n",
    "There are implementations of atmospheric data in ML models that heavily leverage<br>\n",
    "EOFs to reduce highly dimensional data to simpler components<br>\n",
    "Evaluate if this is viable here as it will be applied to raw variables later on"
   ]
  },
  {
   "cell_type": "code",
   "execution_count": null,
   "metadata": {},
   "outputs": [],
   "source": []
  },
  {
   "cell_type": "markdown",
   "metadata": {},
   "source": [
    "### Use LASSO/Ridge regression to determine predictor rank/impact\n",
    "L1/L2 Parameter Tuning -- Use to select relevant predictors, reduce irrelevant to zero, rank by influence"
   ]
  },
  {
   "cell_type": "code",
   "execution_count": 564,
   "metadata": {},
   "outputs": [
    {
     "name": "stdout",
     "output_type": "stream",
     "text": [
      "Linear Regression Train Score: 0.439\n",
      "Linear Regression Test Score: 0.342\n"
     ]
    }
   ],
   "source": [
    "from sklearn.linear_model import LinearRegression\n",
    "\n",
    "lr = LinearRegression()\n",
    "lr.fit(X_train_norm, y_train)\n",
    "\n",
    "lr_train_score = lr.score(X_train_norm, y_train)\n",
    "lr_test_score = lr.score(X_test_norm, y_test)\n",
    "\n",
    "print('Linear Regression Train Score: %.3f'%lr_train_score)\n",
    "print('Linear Regression Test Score: %.3f'%lr_test_score)"
   ]
  },
  {
   "cell_type": "code",
   "execution_count": 565,
   "metadata": {},
   "outputs": [
    {
     "name": "stdout",
     "output_type": "stream",
     "text": [
      "Ridge Regression alpha: 66.000\n",
      "Ridge Regression Train Score: 0.414\n",
      "Ridge Regression Test Score: 0.367\n"
     ]
    }
   ],
   "source": [
    "from sklearn.linear_model import Ridge\n",
    "\n",
    "# The higher the alpha value, more restriction on the coefficients; \n",
    "# low alpha > more generalization, coefficients are barely restricted\n",
    "rr_alpha_tune = []\n",
    "for alpha in np.append(np.arange(0.01, 1, 0.01), np.arange(1, 1000, 1)):\n",
    "\n",
    "    rr = Ridge(alpha=alpha)\n",
    "    rr.fit(X_train, y_train)\n",
    "\n",
    "    rr_train_score = rr.score(X_train, y_train)\n",
    "    rr_test_score = rr.score(X_test, y_test)\n",
    "    \n",
    "    rr_alpha_tune.append([alpha, rr_train_score, rr_test_score, rr])\n",
    "rr_alpha_tune = np.array(rr_alpha_tune)\n",
    "\n",
    "alpha, rr_train_score, rr_test_score, rr = rr_alpha_tune[np.argmax(rr_alpha_tune[:, 2])]\n",
    "print('Ridge Regression alpha: %.3f'%alpha)\n",
    "print('Ridge Regression Train Score: %.3f'%rr_train_score)\n",
    "print('Ridge Regression Test Score: %.3f'%rr_test_score)"
   ]
  },
  {
   "cell_type": "code",
   "execution_count": 599,
   "metadata": {},
   "outputs": [
    {
     "data": {
      "image/png": "[encoded data removed]",
      "text/plain": [
       "<Figure size 576x1008 with 1 Axes>"
      ]
     },
     "metadata": {},
     "output_type": "display_data"
    }
   ],
   "source": [
    "fig, ax = plt.subplots(1, 1, facecolor='w', figsize=(8, 14))\n",
    "\n",
    "ranksort = np.argsort(abs(rr.coef_))[::-1]\n",
    "rr_coefs = rr.coef_[ranksort]\n",
    "rr_keys = X_train_norm.keys()[ranksort]\n",
    "mask = rr_coefs != 0\n",
    "\n",
    "ax.axvline(0, color='k', linewidth=3, zorder=11)\n",
    "ax.barh(rr_keys[mask], rr_coefs[mask], color='green', zorder=10, height=0.97)\n",
    "\n",
    "for i, k in enumerate(rr_keys):\n",
    "    if rr_coefs[i] != 0:\n",
    "        ax.text(rr_coefs[i]/2, k, k, zorder=20)\n",
    "\n",
    "ax.invert_yaxis()\n",
    "ax.axes.get_yaxis().set_visible(False)\n",
    "ax.set_title('Ridge Regression Coefs')\n",
    "ax.set_xlabel('Ridge Coef Value')\n",
    "ax.grid(zorder=-1)"
   ]
  },
  {
   "cell_type": "code",
   "execution_count": 600,
   "metadata": {},
   "outputs": [
    {
     "name": "stdout",
     "output_type": "stream",
     "text": [
      "Lasso alpha: 0.009\n",
      "Lasso Train Score: 0.426\n",
      "Lasso Test Score: 0.367\n",
      "Number of Features Used: 36\n"
     ]
    }
   ],
   "source": [
    "from sklearn.linear_model import Lasso\n",
    "\n",
    "lasso_alpha_tune = []\n",
    "for alpha in np.arange(0.001, .01, 0.001):\n",
    "\n",
    "    lasso = Lasso(alpha=alpha, max_iter=10e5)\n",
    "    lasso.fit(X_train_norm, y_train)\n",
    "\n",
    "    lasso_train_score = lasso.score(X_train_norm, y_train)\n",
    "    lasso_test_score = lasso.score(X_test_norm, y_test)\n",
    "    lasso_coeff_used = np.sum(lasso.coef_ != 0)\n",
    "    \n",
    "    lasso_alpha_tune.append([alpha, lasso_train_score, lasso_test_score, lasso])\n",
    "lasso_alpha_tune = np.array(lasso_alpha_tune)\n",
    "\n",
    "alpha, lasso_train_score, lasso_test_score, lasso = lasso_alpha_tune[np.argmax(lasso_alpha_tune[:, 2])]\n",
    "print('Lasso alpha: %.3f'%alpha)\n",
    "print('Lasso Train Score: %.3f'%lasso_train_score)\n",
    "print('Lasso Test Score: %.3f'%lasso_test_score)\n",
    "print('Number of Features Used: %d'%lasso_coeff_used)"
   ]
  },
  {
   "cell_type": "code",
   "execution_count": 601,
   "metadata": {},
   "outputs": [
    {
     "data": {
      "image/png": "[encoded data removed]",
      "text/plain": [
       "<Figure size 576x1008 with 1 Axes>"
      ]
     },
     "metadata": {},
     "output_type": "display_data"
    }
   ],
   "source": [
    "fig, ax = plt.subplots(1, 1, facecolor='w', figsize=(8, 14))\n",
    "\n",
    "ranksort = np.argsort(abs(lasso.coef_))[::-1]\n",
    "lasso_coefs = lasso.coef_[ranksort]\n",
    "lasso_keys = X_train_norm.keys()[ranksort]\n",
    "mask = lasso_coefs != 0\n",
    "\n",
    "ax.axvline(0, color='k', linewidth=3, zorder=11)\n",
    "ax.barh(lasso_keys[mask], lasso_coefs[mask], color='green', zorder=10, height=0.97)\n",
    "\n",
    "for i, k in enumerate(lasso_keys):\n",
    "    if lasso_coefs[i] != 0:\n",
    "        ax.text(lasso_coefs[i]/2, k, k, zorder=20)\n",
    "\n",
    "ax.invert_yaxis()\n",
    "ax.axes.get_yaxis().set_visible(False)\n",
    "ax.set_title('Lasso Regression Coefs')\n",
    "ax.set_xlabel('Lasso Coef Value')\n",
    "ax.grid(zorder=-1)\n",
    "\n",
    "plt.show()"
   ]
  },
  {
   "cell_type": "code",
   "execution_count": 618,
   "metadata": {},
   "outputs": [
    {
     "name": "stdout",
     "output_type": "stream",
     "text": [
      "Elastic Train Score: 0.428\n",
      "Elastic Test Score: 0.366\n"
     ]
    }
   ],
   "source": [
    "from sklearn.linear_model import ElasticNet\n",
    "\n",
    "# Grid-search for best parameters? (alpha and l1_ratio)\n",
    "\n",
    "elastic = ElasticNet(alpha=0.009, l1_ratio=0.1)\n",
    "elastic.fit(X_train_norm, y_train)\n",
    "\n",
    "elastic_train_score = elastic.score(X_train_norm, y_train)\n",
    "elastic_test_score = elastic.score(X_test_norm, y_test)\n",
    "elastic_coeff_used = np.sum(lasso.coef_ != 0)\n",
    "    \n",
    "print('Elastic Train Score: %.3f'%elastic_train_score)\n",
    "print('Elastic Test Score: %.3f'%elastic_test_score)"
   ]
  },
  {
   "cell_type": "code",
   "execution_count": 619,
   "metadata": {},
   "outputs": [
    {
     "data": {
      "image/png": "[encoded data removed]",
      "text/plain": [
       "<Figure size 576x1008 with 1 Axes>"
      ]
     },
     "metadata": {},
     "output_type": "display_data"
    }
   ],
   "source": [
    "fig, ax = plt.subplots(1, 1, facecolor='w', figsize=(8, 14))\n",
    "\n",
    "ranksort = np.argsort(abs(elastic.coef_))[::-1]\n",
    "elastic_coefs = elastic.coef_[ranksort]\n",
    "elastic_keys = X_train_norm.keys()[ranksort]\n",
    "mask = elastic_coefs != 0\n",
    "\n",
    "ax.axvline(0, color='k', linewidth=3, zorder=11)\n",
    "ax.barh(elastic_keys[mask], elastic_coefs[mask], color='green', zorder=10, height=0.97)\n",
    "\n",
    "for i, k in enumerate(elastic_keys):\n",
    "    if elastic_coefs[i] != 0:\n",
    "        ax.text(elastic_coefs[i]/2, k, k, zorder=20)\n",
    "\n",
    "ax.invert_yaxis()\n",
    "ax.axes.get_yaxis().set_visible(False)\n",
    "ax.set_title('Elastic Regression Coefs')\n",
    "ax.set_xlabel('Elastic Coef Value')\n",
    "ax.grid(zorder=-1)\n",
    "\n",
    "plt.show()"
   ]
  },
  {
   "cell_type": "markdown",
   "metadata": {},
   "source": [
    "#### If we want to use feature selection, we can do so here.\n",
    "Can choose the model from which to take features, do so manually, or not at all (set equal to X_train.keys())"
   ]
  },
  {
   "cell_type": "code",
   "execution_count": 621,
   "metadata": {},
   "outputs": [
    {
     "data": {
      "text/plain": [
       "Index(['T800', 'swe_mm', 'W700', 'W800', 'VO700', 'U750', 'T400', 'VO500',\n",
       "       'W750', 'U400', 'W650', 'T450', 'V500', 'SPD600', 'SPD400', 'SPD700',\n",
       "       'VO550', 'T700', 'SPD800', 'VO750', 'SP', 'VO650', 'SPD550', 'W600',\n",
       "       'W500', 'V650', 'U550', 'SPD450', 'VO800', 'V700', 'W550', 'U450',\n",
       "       'SPD500', 'W400', 'V550', 'T550', 'U800', 'VO450', 'SPD650', 'VO400',\n",
       "       'V750', 'U700', 'U650', 'T650', 'V450', 'T600', 'T500', 'SPD750',\n",
       "       'VO600', 'T750', 'V600', 'day_of_year', 'V400', 'U500', 'W450'],\n",
       "      dtype='object')"
      ]
     },
     "execution_count": 621,
     "metadata": {},
     "output_type": "execute_result"
    }
   ],
   "source": [
    "feature_selection = elastic_keys[mask]\n",
    "feature_selection"
   ]
  },
  {
   "cell_type": "markdown",
   "metadata": {},
   "source": [
    "<hr><hr>"
   ]
  },
  {
   "cell_type": "markdown",
   "metadata": {},
   "source": [
    "### Implement Support Vector Regression Model\n",
    "(Other ML models like ANN from keras, tensorflow, pytorch may be used in this block)"
   ]
  },
  {
   "cell_type": "markdown",
   "metadata": {},
   "source": [
    "Implement a K-Fold Cross Validation to assess model performance (Optional, recommended)"
   ]
  },
  {
   "cell_type": "code",
   "execution_count": null,
   "metadata": {},
   "outputs": [],
   "source": []
  },
  {
   "cell_type": "markdown",
   "metadata": {},
   "source": [
    "Make the SVR model multiprocess friendly"
   ]
  },
  {
   "cell_type": "code",
   "execution_count": null,
   "metadata": {},
   "outputs": [],
   "source": []
  },
  {
   "cell_type": "markdown",
   "metadata": {},
   "source": [
    "Run SVR, collect output iterated over hyperparameters (C, epsilon)<br>\n",
    "Specify the cost function/loss function used, tolerances, kernel, error metric, etc"
   ]
  },
  {
   "cell_type": "code",
   "execution_count": null,
   "metadata": {},
   "outputs": [],
   "source": []
  },
  {
   "cell_type": "markdown",
   "metadata": {},
   "source": [
    "Plot model performance over time, cost/loss function evolution and skill"
   ]
  },
  {
   "cell_type": "code",
   "execution_count": null,
   "metadata": {},
   "outputs": [],
   "source": []
  },
  {
   "cell_type": "markdown",
   "metadata": {},
   "source": [
    "Plot SVR output with hyperparameters (C, epsilon)<br>\n",
    "Apply a grid-search method to select best performing parameters"
   ]
  },
  {
   "cell_type": "code",
   "execution_count": null,
   "metadata": {},
   "outputs": [],
   "source": []
  },
  {
   "cell_type": "markdown",
   "metadata": {},
   "source": [
    "### Describe final trained SVR model\n",
    "Descriptive plots of predictor coefficient rank/influence<br>\n",
    "Print out model parameters, error metrics, skill scores"
   ]
  },
  {
   "cell_type": "code",
   "execution_count": null,
   "metadata": {},
   "outputs": [],
   "source": []
  },
  {
   "cell_type": "markdown",
   "metadata": {},
   "source": [
    "### Save out a usable model along with the input parameters for application\n",
    "Save with a descriptive filename and a metadata text file!<br>\n",
    "This will make swapping out models for evaluation much simpler"
   ]
  },
  {
   "cell_type": "code",
   "execution_count": null,
   "metadata": {},
   "outputs": [],
   "source": []
  }
 ],
 "metadata": {
  "kernelspec": {
   "display_name": "Python 3",
   "language": "python",
   "name": "python3"
  },
  "language_info": {
   "codemirror_mode": {
    "name": "ipython",
    "version": 3
   },
   "file_extension": ".py",
   "mimetype": "text/x-python",
   "name": "python",
   "nbconvert_exporter": "python",
   "pygments_lexer": "ipython3",
   "version": "3.6.5"
  }
 },
 "nbformat": 4,
 "nbformat_minor": 2
}
