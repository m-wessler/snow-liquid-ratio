{
 "cells": [
  {
   "cell_type": "code",
   "execution_count": 1,
   "metadata": {},
   "outputs": [],
   "source": [
    "import os\n",
    "import warnings\n",
    "\n",
    "import netCDF4 as nc\n",
    "import numpy as np\n",
    "import xarray as xr\n",
    "import pandas as pd\n",
    "import multiprocessing as mp\n",
    "import matplotlib.pyplot as plt\n",
    "\n",
    "from glob import glob\n",
    "\n",
    "warnings.filterwarnings('ignore')\n",
    "os.environ['OMP_NUM_THREADS'] = '1'"
   ]
  },
  {
   "cell_type": "markdown",
   "metadata": {},
   "source": [
    "## Pull in GFSDS output"
   ]
  },
  {
   "cell_type": "code",
   "execution_count": null,
   "metadata": {},
   "outputs": [],
   "source": [
    "flist = sorted(glob('./gfsds/*.nc'))\n",
    "\n",
    "gfsds = xr.open_mfdataset(flist)\n",
    "gfsds['lead_time'] = ((gfsds.time - gfsds.time[0])/(3.6e12)).astype(int)\n",
    "\n",
    "gfsds"
   ]
  },
  {
   "cell_type": "markdown",
   "metadata": {},
   "source": [
    "## Ensure tally method functions properly"
   ]
  },
  {
   "cell_type": "code",
   "execution_count": null,
   "metadata": {},
   "outputs": [],
   "source": [
    "xqpf = gfsds['dqpf'].sum(dim='time')\n",
    "xqpf_id = np.where(xqpf == xqpf.max())\n",
    "xqpf_sample = gfsds.isel(lon=xqpf_id[1], lat=xqpf_id[0]).load()\n",
    "xqpf_sample = xqpf_sample.isel(lat=0, lon=0)"
   ]
  },
  {
   "cell_type": "code",
   "execution_count": null,
   "metadata": {},
   "outputs": [],
   "source": [
    "apcp_24_test = []\n",
    "for lead in np.arange(24, 84+1, 12):\n",
    "    tidx = np.where(gfsds['lead_time'] == lead)[0][0]\n",
    "    apcp_24 = xqpf_sample.isel(time=slice(tidx-7, tidx+1))['dqpf'].sum(dim='time')\n",
    "    apcp_24_test.append([lead, apcp_24.values])\n",
    "apcp_24_test = np.array(apcp_24_test)"
   ]
  },
  {
   "cell_type": "code",
   "execution_count": null,
   "metadata": {},
   "outputs": [],
   "source": [
    "fig, ax = plt.subplots(1, facecolor='w')\n",
    "\n",
    "ax.plot(xqpf_sample['lead_time'], xqpf_sample['dqpf'], \n",
    "        color='k', linestyle='--', label='3h APCP')\n",
    "ax.scatter(apcp_24_test[:, 0], apcp_24_test[:, 1], \n",
    "           marker='x', color='k', s=200, linewidth=1.5, label='24h APCP')\n",
    "\n",
    "ax.set_title('sample APCP')\n",
    "ax.legend()\n",
    "ax.grid()\n",
    "plt.show()"
   ]
  },
  {
   "cell_type": "markdown",
   "metadata": {},
   "source": [
    "## 2d Lat Lon Needed, use Meshgrid"
   ]
  },
  {
   "cell_type": "code",
   "execution_count": null,
   "metadata": {},
   "outputs": [],
   "source": [
    "lat, lon = gfsds['lat'], gfsds['lon']\n",
    "lon2d, lat2d = np.meshgrid(lon, lat)"
   ]
  },
  {
   "cell_type": "markdown",
   "metadata": {},
   "source": [
    "## Create NetCDF Files for WPC MODE \n",
    "#### Tally APCP, ASNOW, mean SLR for 24 hours/every 12 hours"
   ]
  },
  {
   "cell_type": "code",
   "execution_count": null,
   "metadata": {},
   "outputs": [],
   "source": [
    "use_lambert_sample = False\n",
    "accum24_sec = str(60 * 60 * 24)"
   ]
  },
  {
   "cell_type": "code",
   "execution_count": null,
   "metadata": {},
   "outputs": [],
   "source": [
    "for lead in np.arange(24, 84+1, 12):\n",
    "    \n",
    "    tidx = np.where(gfsds['lead_time'] == lead)[0][0]\n",
    "    tslice = slice(tidx-7, tidx+1)\n",
    "        \n",
    "    itime = pd.to_datetime(gfsds.time.values[0])\n",
    "    vtime = pd.to_datetime(gfsds.isel(time=tslice).time.values[-1])\n",
    "\n",
    "    apcp_24 = gfsds.isel(time=tslice)['dqpf'].sum(dim='time')\n",
    "    asnow_24 = gfsds.isel(time=tslice)['dqsf'].sum(dim='time')\n",
    "    \n",
    "    slr_24 = xr.where(asnow_24 > 0, gfsds.isel(time=slice(tidx-7, tidx+1))['slr'], np.nan)\n",
    "    slr_24 = slr_24.mean(dim='time', skipna=True)\n",
    "    slr_24 = xr.where(~np.isnan(slr_24), slr_24, 0.)\n",
    "\n",
    "    if use_lambert_sample:\n",
    "        ncfilename = './mode/uutah_downscaled_gfs.%s_f%03d_v%s.nc'%(\n",
    "            itime.strftime('%Y%m%d_%H%M%S'), lead, vtime.strftime('%Y%m%d_%H%M%S'))\n",
    "    else:\n",
    "        ncfilename = './mode/uutah_downscaled_gfs.no_proj.%s_f%03d_v%s.nc'%(\n",
    "            itime.strftime('%Y%m%d_%H%M%S'), lead, vtime.strftime('%Y%m%d_%H%M%S'))\n",
    "        \n",
    "    try:\n",
    "        os.remove(ncfilename)\n",
    "    except:\n",
    "        pass\n",
    "        \n",
    "    ncfile = nc.Dataset(ncfilename, 'w', format='NETCDF4')\n",
    "\n",
    "    # Global Attributes\n",
    "    ncfile.MET_version = \"V6.0\";\n",
    "    ncfile.MET_tool = \"pcp_combine\";\n",
    "    \n",
    "    if use_lambert_sample:\n",
    "        ncfile.Projection = \"Lambert Conformal\";\n",
    "        ncfile.scale_lat_1 = \"38.500000\";\n",
    "        ncfile.scale_lat_2 = \"38.500000\";\n",
    "        ncfile.lat_pin = \"21.138000\";\n",
    "        ncfile.lon_pin = \"-122.720000\";\n",
    "        ncfile.x_pin = \"0.000000\";\n",
    "        ncfile.y_pin = \"0.000000\";\n",
    "        ncfile.lon_orient = \"-97.500000\";\n",
    "        ncfile.d_km = \"3.000000\";\n",
    "        ncfile.r_km = \"6371.200000\";\n",
    "    else:\n",
    "        ncfile.Projection = \"LatLon\";\n",
    "        ncfile.longitude_of_prime_meridian = 0.0 ;\n",
    "        ncfile.semi_major_axis = 6378137.0 ;\n",
    "        ncfile.inverse_flattening = 298.257223563 ;\n",
    "    \n",
    "    ncfile.nx = str(len(lon))\n",
    "    ncfile.ny = str(len(lat))\n",
    "\n",
    "    # Lat Lon dimensions and data\n",
    "    ncfile.createDimension('lon', len(lon))\n",
    "    ncfile.createDimension('lat', len(lat))\n",
    "\n",
    "    lon_nc = ncfile.createVariable('lon', 'f4', ('lat', 'lon'))\n",
    "    lon_nc.long_name = 'longitude'\n",
    "    lon_nc.units = 'degrees_east'\n",
    "    lon_nc.standard_name = 'longitude'\n",
    "    lon_nc._CoordinateAxisType = 'Lon'\n",
    "\n",
    "    lat_nc = ncfile.createVariable('lat', 'f4', ('lat', 'lon'))\n",
    "    lat_nc.long_name = 'latitude'\n",
    "    lat_nc.units = 'degrees_north'\n",
    "    lat_nc.standard_name = 'latitude'\n",
    "    lat_nc._CoordinateAxisType = 'Lat'\n",
    "\n",
    "    lon_nc[:] = lon2d\n",
    "    lat_nc[:] = lat2d\n",
    "\n",
    "    # Write variable data\n",
    "    apcp_24_nc = ncfile.createVariable('APCP_R1', 'f4', ('lat', 'lon'), fill_value=-9999.0)\n",
    "    apcp_24_nc.long_name = 'Total Precipitation'\n",
    "    apcp_24_nc.level = 'R1'\n",
    "    apcp_24_nc.units = 'inches'\n",
    "    apcp_24_nc.init_time = itime.strftime('%Y%m%d_%H%M%S')\n",
    "    apcp_24_nc.init_time_ut = str(itime.timestamp())\n",
    "    apcp_24_nc.valid_time = vtime.strftime('%Y%m%d_%H%M%S')\n",
    "    apcp_24_nc.valid_time_ut = str(vtime.timestamp())\n",
    "    apcp_24_nc.accum_time_sec = accum24_sec\n",
    "\n",
    "    asnow_24_nc = ncfile.createVariable('ASNOW_R1', 'f4', ('lat', 'lon'), fill_value=-9999.0)\n",
    "    asnow_24_nc.long_name = 'Total Snow'\n",
    "    asnow_24_nc.level = 'R1'\n",
    "    asnow_24_nc.units = 'inches'\n",
    "    asnow_24_nc.init_time = itime.strftime('%Y%m%d_%H%M%S')\n",
    "    asnow_24_nc.init_time_ut = str(itime.timestamp())\n",
    "    asnow_24_nc.valid_time = vtime.strftime('%Y%m%d_%H%M%S')\n",
    "    asnow_24_nc.valid_time_ut = str(vtime.timestamp())\n",
    "    asnow_24_nc.accum_time_sec = accum24_sec\n",
    "\n",
    "    slr_24_nc = ncfile.createVariable('SLR_R1', 'f4', ('lat', 'lon'), fill_value=-9999.0)\n",
    "    slr_24_nc.long_name = 'Snow Liquid Ratio'\n",
    "    slr_24_nc.level = 'R1'\n",
    "    slr_24_nc.units = 'ratio'\n",
    "    slr_24_nc.init_time = itime.strftime('%Y%m%d_%H%M%S')\n",
    "    slr_24_nc.init_time_ut = str(itime.timestamp())\n",
    "    slr_24_nc.valid_time = vtime.strftime('%Y%m%d_%H%M%S')\n",
    "    slr_24_nc.valid_time_ut = str(vtime.timestamp())\n",
    "    slr_24_nc.accum_time_sec = accum24_sec\n",
    "    \n",
    "    mm_in = 1/25.4\n",
    "    apcp_24_nc[:] = apcp_24.values * mm_in\n",
    "    asnow_24_nc[:] = asnow_24.values * mm_in\n",
    "    slr_24_nc[:] = slr_24.values\n",
    "    \n",
    "    print('lead %d ncfile %s written'%(lead, ncfilename))\n",
    "    ncfile.close()"
   ]
  }
 ],
 "metadata": {
  "kernelspec": {
   "display_name": "Python 3",
   "language": "python",
   "name": "python3"
  },
  "language_info": {
   "codemirror_mode": {
    "name": "ipython",
    "version": 3
   },
   "file_extension": ".py",
   "mimetype": "text/x-python",
   "name": "python",
   "nbconvert_exporter": "python",
   "pygments_lexer": "ipython3",
   "version": "3.6.5"
  }
 },
 "nbformat": 4,
 "nbformat_minor": 2
}
