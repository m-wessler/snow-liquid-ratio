{
 "cells": [
  {
   "cell_type": "code",
   "execution_count": 1,
   "metadata": {},
   "outputs": [],
   "source": [
    "import os\n",
    "import warnings\n",
    "\n",
    "import netCDF4 as nc\n",
    "import numpy as np\n",
    "import xarray as xr\n",
    "import pandas as pd\n",
    "import multiprocessing as mp\n",
    "import matplotlib.pyplot as plt\n",
    "\n",
    "from glob import glob\n",
    "\n",
    "warnings.filterwarnings('ignore')\n",
    "os.environ['OMP_NUM_THREADS'] = '1'"
   ]
  },
  {
   "cell_type": "markdown",
   "metadata": {},
   "source": [
    "## Pull in GFSDS output"
   ]
  },
  {
   "cell_type": "code",
   "execution_count": 2,
   "metadata": {},
   "outputs": [
    {
     "data": {
      "text/plain": [
       "<xarray.Dataset>\n",
       "Dimensions:    (lat: 2392, lon: 3001, time: 29)\n",
       "Coordinates:\n",
       "  * lat        (lat) float32 29.99583 30.004164 30.012497 ... 49.91249 49.920822\n",
       "  * lon        (lon) float32 -125.004166 -124.995834 ... -100.01251 -100.00417\n",
       "  * time       (time) datetime64[ns] 2020-09-08 ... 2020-09-11T12:00:00\n",
       "Data variables:\n",
       "    dqpf       (time, lat, lon) float64 dask.array<shape=(29, 2392, 3001), chunksize=(1, 2392, 3001)>\n",
       "    dqsf       (time, lat, lon) float64 dask.array<shape=(29, 2392, 3001), chunksize=(1, 2392, 3001)>\n",
       "    prism      (time, lat, lon) float64 dask.array<shape=(29, 2392, 3001), chunksize=(1, 2392, 3001)>\n",
       "    qpf        (time, lat, lon) float64 dask.array<shape=(29, 2392, 3001), chunksize=(1, 2392, 3001)>\n",
       "    qsf        (time, lat, lon) float64 dask.array<shape=(29, 2392, 3001), chunksize=(1, 2392, 3001)>\n",
       "    slr        (time, lat, lon) float64 dask.array<shape=(29, 2392, 3001), chunksize=(1, 2392, 3001)>\n",
       "    wbzh       (time, lat, lon) float64 dask.array<shape=(29, 2392, 3001), chunksize=(1, 2392, 3001)>\n",
       "    lead_time  (time) int64 0 3 6 9 12 15 18 21 24 ... 63 66 69 72 75 78 81 84\n",
       "Attributes:\n",
       "    qpf_units:    mm\n",
       "    qsf_units:    mm\n",
       "    dqpf_units:   mm\n",
       "    dqsf_units:   mm\n",
       "    slr_units:    ratio(qpf/qsf)\n",
       "    wbzh_units:   m\n",
       "    prism_units:  orographic_precipitation_ratio\n",
       "    history:      Thu Sep 10 11:14:42 2020: ncks -O --mk_rec_dmn time GFSDS_2...\n",
       "    NCO:          netCDF Operators version 4.7.5 (Homepage = http://nco.sf.ne..."
      ]
     },
     "execution_count": 2,
     "metadata": {},
     "output_type": "execute_result"
    }
   ],
   "source": [
    "flist = sorted(glob('./gfsds/*.nc'))\n",
    "\n",
    "gfsds = xr.open_mfdataset(flist)\n",
    "gfsds['lead_time'] = ((gfsds.time - gfsds.time[0])/(3.6e12)).astype(int)\n",
    "\n",
    "gfsds"
   ]
  },
  {
   "cell_type": "markdown",
   "metadata": {},
   "source": [
    "## Ensure tally method functions properly"
   ]
  },
  {
   "cell_type": "code",
   "execution_count": 3,
   "metadata": {},
   "outputs": [],
   "source": [
    "xqpf = gfsds['dqpf'].sum(dim='time')\n",
    "xqpf_id = np.where(xqpf == xqpf.max())\n",
    "xqpf_sample = gfsds.isel(lon=xqpf_id[1], lat=xqpf_id[0]).load()\n",
    "xqpf_sample = xqpf_sample.isel(lat=0, lon=0)"
   ]
  },
  {
   "cell_type": "code",
   "execution_count": 4,
   "metadata": {},
   "outputs": [],
   "source": [
    "apcp_24_test = []\n",
    "for lead in np.arange(24, 84+1, 12):\n",
    "    tidx = np.where(gfsds['lead_time'] == lead)[0][0]\n",
    "    apcp_24 = xqpf_sample.isel(time=slice(tidx-7, tidx+1))['dqpf'].sum(dim='time')\n",
    "    apcp_24_test.append([lead, apcp_24.values])\n",
    "apcp_24_test = np.array(apcp_24_test)"
   ]
  },
  {
   "cell_type": "code",
   "execution_count": 5,
   "metadata": {},
   "outputs": [
    {
     "data": {
      "image/png": "[encoded data removed]",
      "text/plain": [
       "<Figure size 432x288 with 1 Axes>"
      ]
     },
     "metadata": {},
     "output_type": "display_data"
    }
   ],
   "source": [
    "fig, ax = plt.subplots(1, facecolor='w')\n",
    "\n",
    "ax.plot(xqpf_sample['lead_time'], xqpf_sample['dqpf'], \n",
    "        color='k', linestyle='--', label='3h APCP')\n",
    "ax.scatter(apcp_24_test[:, 0], apcp_24_test[:, 1], \n",
    "           marker='x', color='k', s=200, linewidth=1.5, label='24h APCP')\n",
    "\n",
    "ax.set_title('sample APCP')\n",
    "ax.legend()\n",
    "ax.grid()\n",
    "plt.show()"
   ]
  },
  {
   "cell_type": "markdown",
   "metadata": {},
   "source": [
    "## 2d Lat Lon Needed, use Meshgrid"
   ]
  },
  {
   "cell_type": "code",
   "execution_count": 6,
   "metadata": {},
   "outputs": [],
   "source": [
    "lat, lon = gfsds['lat'], gfsds['lon']\n",
    "lon2d, lat2d = np.meshgrid(lon, lat)"
   ]
  },
  {
   "cell_type": "markdown",
   "metadata": {},
   "source": [
    "## Create NetCDF Files for WPC MODE \n",
    "#### Tally APCP, ASNOW, mean SLR for 24 hours/every 12 hours"
   ]
  },
  {
   "cell_type": "code",
   "execution_count": 9,
   "metadata": {},
   "outputs": [
    {
     "name": "stdout",
     "output_type": "stream",
     "text": [
      "lead 24 ncfile ./mode/uutah_downscaled_gfs.20200908_000000_f024_v20200909_000000.nc written\n",
      "lead 36 ncfile ./mode/uutah_downscaled_gfs.20200908_000000_f036_v20200909_120000.nc written\n",
      "lead 48 ncfile ./mode/uutah_downscaled_gfs.20200908_000000_f048_v20200910_000000.nc written\n",
      "lead 60 ncfile ./mode/uutah_downscaled_gfs.20200908_000000_f060_v20200910_120000.nc written\n",
      "lead 72 ncfile ./mode/uutah_downscaled_gfs.20200908_000000_f072_v20200911_000000.nc written\n",
      "lead 84 ncfile ./mode/uutah_downscaled_gfs.20200908_000000_f084_v20200911_120000.nc written\n"
     ]
    }
   ],
   "source": [
    "for lead in np.arange(24, 84+1, 12):\n",
    "    \n",
    "    tidx = np.where(gfsds['lead_time'] == lead)[0][0]\n",
    "    tslice = slice(tidx-7, tidx+1)\n",
    "        \n",
    "    itime = pd.to_datetime(gfsds.time.values[0])\n",
    "    vtime = pd.to_datetime(gfsds.isel(time=tslice).time.values[-1])\n",
    "\n",
    "    apcp_24 = gfsds.isel(time=tslice)['dqpf'].sum(dim='time')\n",
    "    asnow_24 = gfsds.isel(time=tslice)['dqsf'].sum(dim='time')\n",
    "    \n",
    "    slr_24 = xr.where(asnow_24 > 0, gfsds.isel(time=slice(tidx-7, tidx+1))['slr'], np.nan)\n",
    "    slr_24 = slr_24.mean(dim='time', skipna=True)\n",
    "    slr_24 = xr.where(~np.isnan(slr_24), slr_24, 0.)\n",
    "    \n",
    "    ncfilename = './mode/uutah_downscaled_gfs.%s_f%03d_v%s.nc'%(\n",
    "        itime.strftime('%Y%m%d_%H%M%S'), lead, vtime.strftime('%Y%m%d_%H%M%S'))\n",
    "    \n",
    "    try:\n",
    "        os.remove(ncfilename)\n",
    "    except:\n",
    "        pass\n",
    "    \n",
    "    ncfile = nc.Dataset(ncfilename, 'w', format='NETCDF4')\n",
    "\n",
    "    # Global Attributes\n",
    "    ncfile.init_time = itime.strftime('%Y%m%d_%H%M%S')\n",
    "    ncfile.init_time_ut = itime.timestamp()\n",
    "    ncfile.valid_time = vtime.strftime('%Y%m%d_%H%M%S')\n",
    "    ncfile.valid_time_ut = vtime.timestamp()\n",
    "\n",
    "    # Lat Lon dimensions and data\n",
    "    ncfile.createDimension('lon', len(lon))\n",
    "    ncfile.createDimension('lat', len(lat))\n",
    "\n",
    "    lon_nc = ncfile.createVariable('lon', 'f4', ('lat', 'lon'))\n",
    "    lon_nc.long_name = 'longitude'\n",
    "    lon_nc.units = 'degrees_east'\n",
    "    lon_nc.standard_name = 'longitude'\n",
    "    lon_nc._CoordinateAxisType = 'Lon'\n",
    "\n",
    "    lat_nc = ncfile.createVariable('lat', 'f4', ('lat', 'lon'))\n",
    "    lat_nc.long_name = 'latitude'\n",
    "    lat_nc.units = 'degrees_north'\n",
    "    lat_nc.standard_name = 'latitude'\n",
    "    lat_nc._CoordinateAxisType = 'Lat'\n",
    "\n",
    "    lon_nc[:] = lon2d\n",
    "    lat_nc[:] = lat2d\n",
    "\n",
    "    # Write variable data\n",
    "    apcp_24_nc = ncfile.createVariable('APCP_R1', 'f4', ('lat', 'lon'), fill_value=-9999.0)\n",
    "    apcp_24_nc.long_name = 'Total Precipitation'\n",
    "    apcp_24_nc.level = 'R1'\n",
    "    apcp_24_nc.units = 'inches'\n",
    "\n",
    "    asnow_24_nc = ncfile.createVariable('ASNOW_R1', 'f4', ('lat', 'lon'), fill_value=-9999.0)\n",
    "    asnow_24_nc.long_name = 'Total Snow'\n",
    "    asnow_24_nc.level = 'R1'\n",
    "    asnow_24_nc.units = 'inches'\n",
    "\n",
    "    slr_24_nc = ncfile.createVariable('SLR_R1', 'f4', ('lat', 'lon'), fill_value=-9999.0)\n",
    "    slr_24_nc.long_name = 'Snow Liquid Ratio'\n",
    "    slr_24_nc.level = 'R1'\n",
    "    slr_24_nc.units = 'ratio'\n",
    "\n",
    "    mm_in = 1/25.4\n",
    "    apcp_24_nc[:] = apcp_24.values * mm_in\n",
    "    asnow_24_nc[:] = asnow_24.values * mm_in\n",
    "    slr_24_nc[:] = slr_24.values\n",
    "\n",
    "    print('lead %d ncfile %s written'%(lead, ncfilename))\n",
    "    ncfile.close()"
   ]
  }
 ],
 "metadata": {
  "kernelspec": {
   "display_name": "Python 3",
   "language": "python",
   "name": "python3"
  },
  "language_info": {
   "codemirror_mode": {
    "name": "ipython",
    "version": 3
   },
   "file_extension": ".py",
   "mimetype": "text/x-python",
   "name": "python",
   "nbconvert_exporter": "python",
   "pygments_lexer": "ipython3",
   "version": "3.6.5"
  }
 },
 "nbformat": 4,
 "nbformat_minor": 2
}
