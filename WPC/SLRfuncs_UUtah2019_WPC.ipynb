{
 "cells": [
  {
   "cell_type": "markdown",
   "metadata": {},
   "source": [
    "# University of Utah Snow-to-Liquid Ratio Algorithm (v2019)\n",
    "#### Code by Michael Wessler (Jim Steenburgh research group)\n",
    "Based on original work by Trevor Alcott<br>\n",
    "Alcott and Steenburgh (2010; https://doi.org/10.1175/2009WAF2222311.1)<br><br>\n",
    "Technique used here is a simplified version of the stepwise multiple linear regression (SMLR) method used in the paper.<br>\n",
    "A curve fit is used to estimate the SMLR SLR output based on limited predictors for computational simplicity.<br>\n",
    "This is the method evaluated in the 2019-2020 WPC-HMT Winter Weather Experiment. New methods in development."
   ]
  },
  {
   "cell_type": "markdown",
   "metadata": {},
   "source": [
    "## Core imports"
   ]
  },
  {
   "cell_type": "code",
   "execution_count": null,
   "metadata": {},
   "outputs": [],
   "source": [
    "import numpy as np\n",
    "import xarray as xr\n",
    "import matplotlib.pyplot as plt\n",
    "from pandas import to_datetime"
   ]
  },
  {
   "cell_type": "markdown",
   "metadata": {},
   "source": [
    "## Sample Data for Unit Testing\n",
    "4-dimensional data (time, level, lat, lon) provided but can use a combination of lower dimensional data (level is the only required dimension).<br>\n",
    "Data may come from grib or any other format, but must conform to this structure for functions to work as they are provided.<br>\n",
    "Note the QPF in this sample dataset is a 3-hourly accumulation (APCP) to conform with other 3-hourly variables.<br>\n",
    "Model orography (orog) can and likely should be replaced with a higher resolution Digital Elevation Model (DEM)."
   ]
  },
  {
   "cell_type": "code",
   "execution_count": null,
   "metadata": {},
   "outputs": [],
   "source": [
    "data = xr.open_dataset('./GFS_0p25_2020011500.sample.nc')\n",
    "data"
   ]
  },
  {
   "cell_type": "markdown",
   "metadata": {},
   "source": [
    "## Wet Bulb Zero Height (Snow Level Proxy)"
   ]
  },
  {
   "cell_type": "code",
   "execution_count": null,
   "metadata": {},
   "outputs": [],
   "source": [
    "def calc_wet_bulb_zero_height(tw, gh, orog):\n",
    "    \n",
    "    ''' \n",
    "    Function to calculate the height of the wet bulb zero (wbzh)\n",
    "    (or other chosen wet bulb temperature)\n",
    "    \n",
    "    Input arrays are assumed as xarray with minimum of numeric 'level' coordinate\n",
    "    \n",
    "    Parameters:\n",
    "        tw : xr.DataArray\n",
    "            1-D (vertical) or n-D array of Wet Bulb Temperature (C)\n",
    "\n",
    "        gh : xr.DataArray\n",
    "            1-D (vertical) or n-D array of geopotential height (m)\n",
    "            Note if model provides true geopotential divide by g=9.80665 \n",
    "            to obtain the geopotential height in meters\n",
    "\n",
    "        orog : array_like\n",
    "            Scalar or xr.DataArray of surface elevation (m)\n",
    "            Suggest using model orography at native resolution or\n",
    "            DEM for upsampled/downscaled grids\n",
    "\n",
    "    Returns:\n",
    "        wbzh : xr.DataArray or scalar\n",
    "            The height of the wet bulb zero parameter in meters above sea level\n",
    "            This is a scalar if tw and gh are 1-D arrays\n",
    "    \n",
    "    University of Utah\n",
    "    Michael Wessler, Trevor Alcott\n",
    "    '''\n",
    "    \n",
    "    # WBZ parameter: temperature to search for \n",
    "    # 0.5 degC as in Western Region tech. attachment\n",
    "    wbzparam = 0.5\n",
    "    \n",
    "    for i, level in enumerate(tw.level.values):\n",
    "        \n",
    "        if i > 0:\n",
    "\n",
    "            level_top = tw.isel(level=i).level.values\n",
    "            level_bot = tw.isel(level=i-1).level.values\n",
    "            print('Searching for WBZ between %d and %d hPa'%(level_bot, level_top))\n",
    "\n",
    "            gh_top = gh.isel(level=i)\n",
    "            gh_bot = gh.isel(level=i-1)\n",
    "\n",
    "            tw_top = tw.isel(level=i)\n",
    "            tw_bot = tw.isel(level=i-1)\n",
    "\n",
    "            # Linear interpolation of wbz height to use when/if it is between these two levels\n",
    "            interp_wbzh = gh_bot + ((wbzparam - tw_bot)*((gh_top - gh_bot)/(tw_top - tw_bot)))\n",
    "\n",
    "            if i == 1:\n",
    "                # First iteration, establish the wbz height (wbzh) array\n",
    "                # If WBZ between these two levels, use interpolated WBZH, else np.nan\n",
    "                wbzh = xr.where( (tw_bot >= wbzparam) & (tw_top <= wbzparam), interp_wbzh, np.nan)\n",
    "\n",
    "            else:\n",
    "                # If does not exist:\n",
    "                wbzh = xr.where( ((tw_bot >= wbzparam) & (tw_top <= wbzparam)) & (np.isnan(wbzh)), interp_wbzh, wbzh)\n",
    "\n",
    "                # If exists and wbzh subterrainian\n",
    "                wbzh = xr.where( ((tw_bot >= wbzparam) & (tw_top <= wbzparam)) & (~np.isnan(wbzh) & (wbzh >= orog.min())), interp_wbzh, wbzh)\n",
    "\n",
    "    # Where nans remain because entire column Tw < wbzparam, fill with 0 m AMSL\n",
    "    wbzh = xr.where(np.isnan(wbzh) & (tw.max(dim='level') < wbzparam), 0, wbzh)\n",
    "    \n",
    "    return wbzh.drop('level')"
   ]
  },
  {
   "cell_type": "markdown",
   "metadata": {},
   "source": [
    "## Layer temperature calculation"
   ]
  },
  {
   "cell_type": "code",
   "execution_count": null,
   "metadata": {},
   "outputs": [],
   "source": [
    "def calc_layer_temp(t, gh, orog):\n",
    "    \n",
    "    ''' \n",
    "    Function to calculate the relevant layer temperature \n",
    "    as predictor for curve fit snow-liquid-ratio (SLR) calculation\n",
    "    based on Alcott and Steenburgh (2010) Stepwise Multiple\n",
    "    Linear Regression based SLR algorithm\n",
    "    \n",
    "    Input arrays are assumed as xarray with minimum of numeric 'level' coordinate\n",
    "    \n",
    "    Parameters:\n",
    "        t : xr.DataArray\n",
    "            1-D (vertical) or n-D array of Wet Bulb Temperature (C)\n",
    "\n",
    "        gh : xr.DataArray\n",
    "            1-D (vertical) or n-D array of geopotential height (m)\n",
    "            Note if model provides true geopotential divide by g=9.80665 \n",
    "            to obtain the geopotential height in meters\n",
    "\n",
    "        orog : array_like\n",
    "            Scalar or xr.DataArray of surface elevation (m)\n",
    "            Suggest using model orography at native resolution or\n",
    "            DEM for upsampled/downscaled grids\n",
    "\n",
    "    Returns:\n",
    "        tlayer : xr.DataArray or scalar\n",
    "            Relevant layer temperature (predictor for SLR curve fit)\n",
    "            This is a scalar if t and gh are 1-D arrays\n",
    "    \n",
    "    University of Utah\n",
    "    Michael Wessler, Trevor Alcott\n",
    "    '''\n",
    "    \n",
    "    # Determine geopotential height relative to ground level\n",
    "    # + 500 m buffer (see Alcott(?), I believe this may have been done as a bias correction)\n",
    "    gh_agl = (gh - (orog + 500.0))\n",
    "    \n",
    "    # Where this is 0.0 m, set to 1.0 m\n",
    "    gh_agl = xr.where(gh_agl == 0.0, 1.0, gh_agl)\n",
    "    \n",
    "    # If the 1000mb height is > 0, use the 1000 mb temperature to start\n",
    "    # Otherwise assign t=0\n",
    "    tvals = xr.where(gh_agl.sel(level=1000) > 0, t.sel(level=1000), 0)\n",
    "    \n",
    "    # Iterate through the vertical levels\n",
    "    for i in range(t.level.size)[:0:-1]:\n",
    "        \n",
    "        # 'l' level\n",
    "        # 'z' geopotential height\n",
    "        # 'c/up/dn' current level/level above/level below\n",
    "        \n",
    "        # Current level\n",
    "        lc = t.level.isel(level=i).values\n",
    "        zc = gh_agl.isel(level=i)\n",
    "        tc = t.isel(level=i)\n",
    "        \n",
    "        # Level above (corrected for 'wraparound' when iterating)\n",
    "        up = i+1 if i+1 < t.level.size else 0\n",
    "        lup = t.level.isel(level=up).values\n",
    "        zup = gh_agl.isel(level=up)\n",
    "        tup = t.isel(level=up)\n",
    "        \n",
    "        # Level below (corrected for 'wraparound' when iterating)\n",
    "        ldn = t.level.isel(level=i-1).values\n",
    "        zdn = gh_agl.isel(level=i-1)\n",
    "        tdn = t.isel(level=i-1)\n",
    "        \n",
    "        # Print values for a sanity check while testing \n",
    "        # to ensure proper iteration/vertical wrap\n",
    "        # print(i, lc, lup, ldn)\n",
    "        \n",
    "        # Where the geopotential height AGL is > 0 at this level \n",
    "        # and geopotential height AGL is < 0 at level below...\n",
    "        tvals = xr.where(((zc > 0.0) & (zdn < 0.0)),\n",
    "        \n",
    "        # Determine a layer temperature\n",
    "        (( zc / ( zc - zup ) ) * ( tup - tc ) + tc ),\n",
    "        \n",
    "        # Else use layer temperature already determined\n",
    "        tvals)\n",
    "    \n",
    "    # In the strange exception case where 500 mb is below ground level\n",
    "    # apply T500 as Tlayer (redundant failsafe - probably not needed)\n",
    "    tlayer = xr.where(gh_agl.sel(level=500) < 0, t.sel(level=500), tvals)\n",
    "        \n",
    "    return tlayer"
   ]
  },
  {
   "cell_type": "markdown",
   "metadata": {},
   "source": [
    "## Snow-Liquid-Ratio Calculation"
   ]
  },
  {
   "cell_type": "code",
   "execution_count": null,
   "metadata": {},
   "outputs": [],
   "source": [
    "def calc_snow_ratio(tlayer, wbzh, orog):\n",
    "    \n",
    "    ''' \n",
    "    Function to calculate the relevant layer temperature \n",
    "    as predictor for curve fit snow-liquid-ratio (SLR) calculation\n",
    "    based on Alcott and Steenburgh (2010) Stepwise Multiple\n",
    "    Linear Regression based SLR algorithm\n",
    "    \n",
    "    Input arrays are assumed as xarray with minimum of numeric 'level' coordinate\n",
    "    \n",
    "    Parameters:\n",
    "        tlayer : xr.DataArray\n",
    "            1-D (vertical) or n-D array of relevant layer temperature (C)\n",
    "            predictor for SLR curve fit\n",
    "\n",
    "        wbzh : xr.DataArray\n",
    "            1-D (vertical) or n-D array of the height of \n",
    "            the wet bulb zero parameter (m)\n",
    "\n",
    "        orog : array_like\n",
    "            Scalar or xr.DataArray of surface elevation (m)\n",
    "            Suggest using model orography at native resolution or\n",
    "            DEM for upsampled/downscaled grids\n",
    "\n",
    "    Returns:\n",
    "        slr : n-D array or scalar\n",
    "            Snow-Liqud-Ratio value interger (e.g. 15 for 15:1)\n",
    "            This is a scalar if tlayer and wbzh are 1-D arrays\n",
    "    \n",
    "    University of Utah\n",
    "    Michael Wessler, Trevor Alcott\n",
    "    '''\n",
    "    \n",
    "    # Tunable transition layer parameters (m)\n",
    "    all_snow_buffer = 0\n",
    "    transition_layer = 200\n",
    "    \n",
    "    # Extend the snow level below the wet bulb zero parameter height if set\n",
    "    snow_level = wbzh - all_snow_buffer\n",
    "    snow_level = xr.where(snow_level < 0., 0., snow_level)\n",
    "\n",
    "    # Curve fit to Alcott and Steenburgh (2010) SMLR results\n",
    "    init_slr = xr.where(tlayer < 0., 5. - tlayer, 5.)\n",
    "    init_slr = xr.where(tlayer < -15., 20. + (tlayer + 15.), init_slr)\n",
    "    init_slr = xr.where(tlayer < -20., 15., init_slr)\n",
    "\n",
    "    # Keep the initial SLR calculations above the snow level\n",
    "    slr = xr.where(orog >= snow_level, init_slr, 0.)\n",
    "\n",
    "    # Linear attenuation of the SLR in the transition layer\n",
    "    slr = xr.where(\n",
    "        ((orog < snow_level) & (orog > (snow_level - transition_layer))),\n",
    "        (init_slr * (orog - (snow_level - transition_layer)) / transition_layer), slr)\n",
    "\n",
    "    return slr"
   ]
  },
  {
   "cell_type": "markdown",
   "metadata": {},
   "source": [
    "## Calculate parameters, SLR"
   ]
  },
  {
   "cell_type": "code",
   "execution_count": null,
   "metadata": {},
   "outputs": [],
   "source": [
    "# Height of the Wet Bulb Zero \n",
    "data['wbzh'] = calc_wet_bulb_zero_height(data['tw'], data['gh'], data['orog'])\n",
    "\n",
    "# Predictor Layer Temperature\n",
    "data['tlayer'] = calc_layer_temp(data['t'], data['gh'], data['orog'])\n",
    "\n",
    "# Snow-to-Liquid Ratio\n",
    "data['slr'] = calc_snow_ratio(data['tlayer'], data['wbzh'], data['orog'])\n",
    "\n",
    "# Quantitative Snowfall Forecast (QPF * SLR)\n",
    "data['qsf'] = data['qpf'] * data['slr']"
   ]
  },
  {
   "cell_type": "markdown",
   "metadata": {},
   "source": [
    "## Create quickview plots"
   ]
  },
  {
   "cell_type": "code",
   "execution_count": null,
   "metadata": {},
   "outputs": [],
   "source": [
    "# Select a sample, verified file produced operationally on weather.utah.edu\n",
    "verif = xr.open_dataset('GFSDS_20200115_0000_048.sample.nc')\n",
    "verif_time = to_datetime(verif.time.values).strftime('%Y-%m-%d %H:%M')\n",
    "\n",
    "idata = data.sel(time=verif_time)\n",
    "time = to_datetime(idata.time.values).strftime('%Y-%m-%d %H:%M')\n",
    "\n",
    "# Check for time match\n",
    "print('fx: %s\\nvx: %s'%(time, verif_time))"
   ]
  },
  {
   "cell_type": "code",
   "execution_count": null,
   "metadata": {},
   "outputs": [],
   "source": [
    "fig, ax = plt.subplots(1, figsize=(12, 8), facecolor='w')\n",
    "idata['wbzh'].plot(ax=ax)\n",
    "ax.set_title('WBZH\\n%s'%time)\n",
    "plt.show()"
   ]
  },
  {
   "cell_type": "code",
   "execution_count": null,
   "metadata": {},
   "outputs": [],
   "source": [
    "fig, ax = plt.subplots(1, figsize=(12, 8), facecolor='w')\n",
    "idata['tlayer'].plot(ax=ax)\n",
    "ax.set_title('T_LAYER\\n%s'%time)\n",
    "plt.show()"
   ]
  },
  {
   "cell_type": "code",
   "execution_count": null,
   "metadata": {},
   "outputs": [],
   "source": [
    "fig, ax = plt.subplots(1, 2, figsize=(20, 8), facecolor='w')\n",
    "idata['slr'].plot(ax=ax[0])\n",
    "verif['slr'].plot(ax=ax[1])\n",
    "\n",
    "ax[0].set_xlim(left=20)\n",
    "ax[0].set_xticks(np.linspace(20, 120, 6))\n",
    "ax[0].set_xticklabels(np.linspace(-125, -100, 6).astype(int))\n",
    "ax[0].set_yticks(np.linspace(0, 80, 9))\n",
    "ax[0].set_yticklabels(np.arange(30, 50, 2.5))\n",
    "\n",
    "ax[0].set_title('Unit Test SLR 0.25 deg\\n%s'%time)\n",
    "ax[1].set_title('Verif SLR\\n%s 800 m '%time)\n",
    "plt.show()"
   ]
  },
  {
   "cell_type": "code",
   "execution_count": null,
   "metadata": {},
   "outputs": [],
   "source": [
    "fig, ax = plt.subplots(1, 2, figsize=(20, 8), facecolor='w')\n",
    "idata['qpf'].plot(ax=ax[0])\n",
    "idata['qsf'].plot(ax=ax[1])\n",
    "ax[0].set_title('QPF\\n%s'%time)\n",
    "ax[1].set_title('QSF\\n%s'%time)\n",
    "plt.show()"
   ]
  }
 ],
 "metadata": {
  "kernelspec": {
   "display_name": "Python 3",
   "language": "python",
   "name": "python3"
  },
  "language_info": {
   "codemirror_mode": {
    "name": "ipython",
    "version": 3
   },
   "file_extension": ".py",
   "mimetype": "text/x-python",
   "name": "python",
   "nbconvert_exporter": "python",
   "pygments_lexer": "ipython3",
   "version": "3.6.5"
  }
 },
 "nbformat": 4,
 "nbformat_minor": 4
}
