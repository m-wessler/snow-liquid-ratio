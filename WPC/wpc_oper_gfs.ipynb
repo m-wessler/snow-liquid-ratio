{
 "cells": [
  {
   "cell_type": "code",
   "execution_count": 7,
   "metadata": {},
   "outputs": [],
   "source": [
    "import sys, os\n",
    "import warnings\n",
    "\n",
    "import netCDF4 as nc\n",
    "import numpy as np\n",
    "import xarray as xr\n",
    "import pandas as pd\n",
    "import multiprocessing as mp\n",
    "import matplotlib.pyplot as plt\n",
    "\n",
    "from glob import glob\n",
    "from datetime import datetime, timedelta\n",
    "from functools import partial\n",
    "\n",
    "warnings.filterwarnings('ignore')\n",
    "os.environ['OMP_NUM_THREADS'] = '1'"
   ]
  },
  {
   "cell_type": "code",
   "execution_count": 9,
   "metadata": {},
   "outputs": [
    {
     "name": "stdout",
     "output_type": "stream",
     "text": [
      "2020-11-08 18:00:00\n"
     ]
    }
   ],
   "source": [
    "model = 'gfsds'\n",
    "\n",
    "init = datetime.utcnow() - timedelta(hours=6)\n",
    "init_hour = [0, 6, 12, 18][int(init.hour/6)]\n",
    "init = datetime(init.year, init.month, init.day, init_hour)# init = datetime.strptime(sys.argv[1], '%Y%m%d%H')\n",
    "print(init)\n",
    "\n",
    "archive_dir = '/uufs/chpc.utah.edu/common/home/horel-group/archive/'\n",
    "output_dir = '/uufs/chpc.utah.edu/common/home/steenburgh-group10/mewessler/wpc/oper/%s/%02d/'%(model, init.hour)\n",
    "data_dir = archive_dir  + '%s/models/%s/%s/'%(init.strftime('%Y%m%d'), model, init.strftime('%Y%m%d%H'))\n",
    "os.makedirs(output_dir, exist_ok=True)"
   ]
  },
  {
   "cell_type": "code",
   "execution_count": 10,
   "metadata": {},
   "outputs": [],
   "source": [
    "def netcdf4_writer(ds):\n",
    "    \n",
    "    itime = pd.to_datetime(ds['init'].values)\n",
    "    vtime = pd.to_datetime(ds['time'].values)\n",
    "    ftime = ds['fhr'].values\n",
    "    \n",
    "    lat, lon = ds['lat'], ds['lon']\n",
    "    lon2d, lat2d = np.meshgrid(lon, lat)\n",
    "    accum24_sec = 60 * 60 * 24\n",
    "    \n",
    "    ncfilename = output_dir + 'uutah_downscaled_gfs.no_proj.%s_f%03d_v%s.nc'%(\n",
    "            itime.strftime('%Y%m%d%H'), ftime, vtime.strftime('%Y%m%d%H'))\n",
    "    \n",
    "    if os.path.isfile(ncfilename):\n",
    "        os.remove(ncfilename)\n",
    "    \n",
    "    with nc.Dataset(ncfilename, 'w', format='NETCDF4') as ncfile:\n",
    "        \n",
    "        # Global Attributes\n",
    "        ncfile.Projection = \"LatLon\"\n",
    "        ncfile.longitude_of_prime_meridian = 0.0\n",
    "        ncfile.semi_major_axis = 6378137.0\n",
    "        ncfile.inverse_flattening = 298.257223563\n",
    "        \n",
    "        ncfile.nx = str(len(lon))\n",
    "        ncfile.ny = str(len(lat))\n",
    "\n",
    "        # Lat Lon dimensions and data\n",
    "        ncfile.createDimension('lon', len(lon))\n",
    "        ncfile.createDimension('lat', len(lat))\n",
    "\n",
    "        lon_nc = ncfile.createVariable('lon', 'f4', ('lat', 'lon'))\n",
    "        lon_nc.long_name = 'longitude'\n",
    "        lon_nc.units = 'degrees_east'\n",
    "        lon_nc.standard_name = 'longitude'\n",
    "        lon_nc._CoordinateAxisType = 'Lon'\n",
    "\n",
    "        lat_nc = ncfile.createVariable('lat', 'f4', ('lat', 'lon'))\n",
    "        lat_nc.long_name = 'latitude'\n",
    "        lat_nc.units = 'degrees_north'\n",
    "        lat_nc.standard_name = 'latitude'\n",
    "        lat_nc._CoordinateAxisType = 'Lat'\n",
    "\n",
    "        lon_nc[:] = lon2d\n",
    "        lat_nc[:] = lat2d\n",
    "\n",
    "        # Write variable data\n",
    "        apcp_24_nc = ncfile.createVariable(\n",
    "            'APCP_R1', 'f4', ('lat', 'lon'), \n",
    "            fill_value=-9999.0, zlib=True, complevel=9)\n",
    "        \n",
    "        apcp_24_nc.long_name = 'Total Precipitation'\n",
    "        apcp_24_nc.level = 'R1'\n",
    "        apcp_24_nc.units = 'inches'\n",
    "        apcp_24_nc.init_time = itime.strftime('%Y%m%d_%H%M%S')\n",
    "        apcp_24_nc.init_time_ut = str(itime.timestamp())\n",
    "        apcp_24_nc.valid_time = vtime.strftime('%Y%m%d_%H%M%S')\n",
    "        apcp_24_nc.valid_time_ut = str(vtime.timestamp())\n",
    "        apcp_24_nc.accum_time_sec = accum24_sec\n",
    "\n",
    "        asnow_24_nc = ncfile.createVariable(\n",
    "            'ASNOW_R1', 'f4', ('lat', 'lon'), \n",
    "            fill_value=-9999.0, zlib=True, complevel=9)\n",
    "        \n",
    "        asnow_24_nc.long_name = 'Total Snow'\n",
    "        asnow_24_nc.level = 'R1'\n",
    "        asnow_24_nc.units = 'inches'\n",
    "        asnow_24_nc.init_time = itime.strftime('%Y%m%d_%H%M%S')\n",
    "        asnow_24_nc.init_time_ut = str(itime.timestamp())\n",
    "        asnow_24_nc.valid_time = vtime.strftime('%Y%m%d_%H%M%S')\n",
    "        asnow_24_nc.valid_time_ut = str(vtime.timestamp())\n",
    "        asnow_24_nc.accum_time_sec = accum24_sec\n",
    "\n",
    "        slr_24_nc = ncfile.createVariable(\n",
    "            'SLR_R1', 'f4', ('lat', 'lon'), \n",
    "            fill_value=-9999.0, zlib=True, complevel=9)\n",
    "        \n",
    "        slr_24_nc.long_name = 'Snow Liquid Ratio'\n",
    "        slr_24_nc.level = 'R1'\n",
    "        slr_24_nc.units = 'ratio'\n",
    "        slr_24_nc.init_time = itime.strftime('%Y%m%d_%H%M%S')\n",
    "        slr_24_nc.init_time_ut = str(itime.timestamp())\n",
    "        slr_24_nc.valid_time = vtime.strftime('%Y%m%d_%H%M%S')\n",
    "        slr_24_nc.valid_time_ut = str(vtime.timestamp())\n",
    "        slr_24_nc.accum_time_sec = accum24_sec\n",
    "\n",
    "        mm_in = 1/25.4\n",
    "        apcp_24_nc[:] = ds['apcp24'].values * mm_in\n",
    "        asnow_24_nc[:] = ds['snow24'].values * mm_in\n",
    "        slr_24_nc[:] = ds['slr24'].values\n",
    "\n",
    "    print('f%03d ncfile %s written'%(ftime, ncfilename))"
   ]
  },
  {
   "cell_type": "code",
   "execution_count": 11,
   "metadata": {},
   "outputs": [],
   "source": [
    "def repack_gfs_wpc(fhr, input_data, swe_threshold=0.254):\n",
    "        \n",
    "    i0 = np.where(input_data['fhr'] == fhr-24)[0][0]+1\n",
    "    i = np.where(input_data['fhr'] == fhr)[0][0]+1\n",
    "    \n",
    "    select = input_data.isel(time=slice(i0, i))\n",
    "        \n",
    "    # Change handling of 0 SWE forecast here if need be\n",
    "    mw_slr = xr.where(select['dqpf'] > swe_threshold, select['slr'], np.nan).mean(dim='time')\n",
    "    mw_slr = xr.where(np.isnan(mw_slr), select['slr'].mean(dim='time'), mw_slr)\n",
    "    mw_slr = mw_slr.rename('slr24')\n",
    "\n",
    "    qpf = xr.where(select['dqpf'] > swe_threshold, select['dqpf'], np.nan).sum(dim='time')\n",
    "    qpf = qpf.rename('apcp24')\n",
    "    \n",
    "    snow = qpf * mw_slr\n",
    "    snow = snow.rename('snow24')\n",
    "        \n",
    "    output = xr.merge([mw_slr, qpf, snow])\n",
    "    output['init'] = input_data['time'][0]\n",
    "    output['fhr'] = fhr\n",
    "    output['time'] = select['time'][-1]\n",
    "        \n",
    "    netcdf4_writer(output)\n",
    "    \n",
    "    return None"
   ]
  },
  {
   "cell_type": "code",
   "execution_count": 14,
   "metadata": {},
   "outputs": [
    {
     "name": "stdout",
     "output_type": "stream",
     "text": [
      "['/uufs/chpc.utah.edu/common/home/horel-group/archive/20201108/models/gfsds/2020110818/GFSDS_20201108_1800_000.nc', '/uufs/chpc.utah.edu/common/home/horel-group/archive/20201108/models/gfsds/2020110818/GFSDS_20201108_1800_003.nc', '/uufs/chpc.utah.edu/common/home/horel-group/archive/20201108/models/gfsds/2020110818/GFSDS_20201108_1800_006.nc', '/uufs/chpc.utah.edu/common/home/horel-group/archive/20201108/models/gfsds/2020110818/GFSDS_20201108_1800_009.nc', '/uufs/chpc.utah.edu/common/home/horel-group/archive/20201108/models/gfsds/2020110818/GFSDS_20201108_1800_012.nc', '/uufs/chpc.utah.edu/common/home/horel-group/archive/20201108/models/gfsds/2020110818/GFSDS_20201108_1800_015.nc', '/uufs/chpc.utah.edu/common/home/horel-group/archive/20201108/models/gfsds/2020110818/GFSDS_20201108_1800_018.nc', '/uufs/chpc.utah.edu/common/home/horel-group/archive/20201108/models/gfsds/2020110818/GFSDS_20201108_1800_021.nc', '/uufs/chpc.utah.edu/common/home/horel-group/archive/20201108/models/gfsds/2020110818/GFSDS_20201108_1800_024.nc', '/uufs/chpc.utah.edu/common/home/horel-group/archive/20201108/models/gfsds/2020110818/GFSDS_20201108_1800_027.nc', '/uufs/chpc.utah.edu/common/home/horel-group/archive/20201108/models/gfsds/2020110818/GFSDS_20201108_1800_030.nc', '/uufs/chpc.utah.edu/common/home/horel-group/archive/20201108/models/gfsds/2020110818/GFSDS_20201108_1800_033.nc', '/uufs/chpc.utah.edu/common/home/horel-group/archive/20201108/models/gfsds/2020110818/GFSDS_20201108_1800_036.nc', '/uufs/chpc.utah.edu/common/home/horel-group/archive/20201108/models/gfsds/2020110818/GFSDS_20201108_1800_039.nc', '/uufs/chpc.utah.edu/common/home/horel-group/archive/20201108/models/gfsds/2020110818/GFSDS_20201108_1800_042.nc', '/uufs/chpc.utah.edu/common/home/horel-group/archive/20201108/models/gfsds/2020110818/GFSDS_20201108_1800_045.nc', '/uufs/chpc.utah.edu/common/home/horel-group/archive/20201108/models/gfsds/2020110818/GFSDS_20201108_1800_048.nc', '/uufs/chpc.utah.edu/common/home/horel-group/archive/20201108/models/gfsds/2020110818/GFSDS_20201108_1800_051.nc', '/uufs/chpc.utah.edu/common/home/horel-group/archive/20201108/models/gfsds/2020110818/GFSDS_20201108_1800_054.nc', '/uufs/chpc.utah.edu/common/home/horel-group/archive/20201108/models/gfsds/2020110818/GFSDS_20201108_1800_057.nc', '/uufs/chpc.utah.edu/common/home/horel-group/archive/20201108/models/gfsds/2020110818/GFSDS_20201108_1800_060.nc', '/uufs/chpc.utah.edu/common/home/horel-group/archive/20201108/models/gfsds/2020110818/GFSDS_20201108_1800_063.nc', '/uufs/chpc.utah.edu/common/home/horel-group/archive/20201108/models/gfsds/2020110818/GFSDS_20201108_1800_066.nc', '/uufs/chpc.utah.edu/common/home/horel-group/archive/20201108/models/gfsds/2020110818/GFSDS_20201108_1800_069.nc', '/uufs/chpc.utah.edu/common/home/horel-group/archive/20201108/models/gfsds/2020110818/GFSDS_20201108_1800_072.nc', '/uufs/chpc.utah.edu/common/home/horel-group/archive/20201108/models/gfsds/2020110818/GFSDS_20201108_1800_075.nc', '/uufs/chpc.utah.edu/common/home/horel-group/archive/20201108/models/gfsds/2020110818/GFSDS_20201108_1800_078.nc', '/uufs/chpc.utah.edu/common/home/horel-group/archive/20201108/models/gfsds/2020110818/GFSDS_20201108_1800_081.nc', '/uufs/chpc.utah.edu/common/home/horel-group/archive/20201108/models/gfsds/2020110818/GFSDS_20201108_1800_084.nc']\n"
     ]
    }
   ],
   "source": [
    "old_output = glob(output_dir + '*')\n",
    "file_list = glob(data_dir + '*.nc')\n",
    "print(file_list)\n",
    "\n",
    "data = xr.open_mfdataset(file_list)[['slr', 'dqpf', 'dqsf']]\n",
    "data['fhr'] = (data.time - data.time[0]).astype(int)/3.6e12"
   ]
  },
  {
   "cell_type": "code",
   "execution_count": 13,
   "metadata": {},
   "outputs": [
    {
     "name": "stdout",
     "output_type": "stream",
     "text": [
      "f072 ncfile /uufs/chpc.utah.edu/common/home/steenburgh-group10/mewessler/wpc/oper/gfsds/18/uutah_downscaled_gfs.no_proj.2020110818_f072_v2020111118.nc written\n",
      "f060 ncfile /uufs/chpc.utah.edu/common/home/steenburgh-group10/mewessler/wpc/oper/gfsds/18/uutah_downscaled_gfs.no_proj.2020110818_f060_v2020111106.nc written\n",
      "f048 ncfile /uufs/chpc.utah.edu/common/home/steenburgh-group10/mewessler/wpc/oper/gfsds/18/uutah_downscaled_gfs.no_proj.2020110818_f048_v2020111018.nc written\n",
      "f084 ncfile /uufs/chpc.utah.edu/common/home/steenburgh-group10/mewessler/wpc/oper/gfsds/18/uutah_downscaled_gfs.no_proj.2020110818_f084_v2020111206.nc written\n",
      "f036 ncfile /uufs/chpc.utah.edu/common/home/steenburgh-group10/mewessler/wpc/oper/gfsds/18/uutah_downscaled_gfs.no_proj.2020110818_f036_v2020111006.nc written\n",
      "f024 ncfile /uufs/chpc.utah.edu/common/home/steenburgh-group10/mewessler/wpc/oper/gfsds/18/uutah_downscaled_gfs.no_proj.2020110818_f024_v2020110918.nc written\n"
     ]
    }
   ],
   "source": [
    "fhrs = np.arange(24, 84+1, 12)\n",
    "\n",
    "repack_gfs_wpc_mp = partial(repack_gfs_wpc, input_data=data)\n",
    "\n",
    "with mp.get_context('fork').Pool(len(fhrs)) as p:\n",
    "    p.map(repack_gfs_wpc_mp, fhrs, chunksize=1)\n",
    "    p.close()\n",
    "    p.join()"
   ]
  },
  {
   "cell_type": "code",
   "execution_count": null,
   "metadata": {},
   "outputs": [],
   "source": [
    "for f in old_output:\n",
    "    try:\n",
    "        os.remove(f)\n",
    "    except:\n",
    "        pass"
   ]
  },
  {
   "cell_type": "code",
   "execution_count": null,
   "metadata": {},
   "outputs": [],
   "source": [
    "cmd = 'tar -czvf %suutah_downscaled_gfs.no_proj_%s.tar.gz -C %s .'%(\n",
    "    output_dir, \n",
    "    pd.to_datetime(data.time.values[0]).strftime('%Y%m%d%H'), \n",
    "    output_dir)\n",
    "\n",
    "os.system(cmd);\n",
    "\n",
    "print('Done...')"
   ]
  },
  {
   "cell_type": "code",
   "execution_count": null,
   "metadata": {},
   "outputs": [],
   "source": []
  }
 ],
 "metadata": {
  "kernelspec": {
   "display_name": "Python 3",
   "language": "python",
   "name": "python3"
  },
  "language_info": {
   "codemirror_mode": {
    "name": "ipython",
    "version": 3
   },
   "file_extension": ".py",
   "mimetype": "text/x-python",
   "name": "python",
   "nbconvert_exporter": "python",
   "pygments_lexer": "ipython3",
   "version": "3.8.3"
  }
 },
 "nbformat": 4,
 "nbformat_minor": 4
}
